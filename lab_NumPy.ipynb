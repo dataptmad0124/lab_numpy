{
 "cells": [
  {
   "cell_type": "markdown",
   "metadata": {},
   "source": [
    "# Introduction to NumPy\n",
    "\n",
    "\n",
    "#### 1. Import NumPy under the name np."
   ]
  },
  {
   "cell_type": "code",
   "execution_count": 7,
   "metadata": {},
   "outputs": [],
   "source": [
    "# your code here\n",
    "import numpy as np"
   ]
  },
  {
   "cell_type": "markdown",
   "metadata": {},
   "source": [
    "#### 2. Print your NumPy version."
   ]
  },
  {
   "cell_type": "code",
   "execution_count": 8,
   "metadata": {},
   "outputs": [
    {
     "name": "stdout",
     "output_type": "stream",
     "text": [
      "1.26.3\n"
     ]
    }
   ],
   "source": [
    "# your code here\n",
    "print(np.__version__)"
   ]
  },
  {
   "cell_type": "markdown",
   "metadata": {},
   "source": [
    "#### 3. Generate a 2x3x5 3-dimensional array with random values. Assign the array to variable *a*.\n",
    "**Challenge**: there are at least three easy ways that use numpy to generate random arrays. How many ways can you find?"
   ]
  },
  {
   "cell_type": "code",
   "execution_count": 9,
   "metadata": {},
   "outputs": [
    {
     "name": "stdout",
     "output_type": "stream",
     "text": [
      "[[[0.93318069 0.05042614 0.44601816 0.56844454 0.07882009]\n",
      "  [0.06988583 0.54968857 0.34879718 0.61756144 0.01234038]\n",
      "  [0.27513101 0.59712302 0.18000027 0.77342939 0.61332288]]\n",
      "\n",
      " [[0.36506249 0.33199804 0.15172    0.58846996 0.70060608]\n",
      "  [0.76572342 0.56419835 0.97935695 0.9487987  0.88092679]\n",
      "  [0.88790228 0.4419418  0.25306438 0.97404839 0.74296607]]]\n"
     ]
    }
   ],
   "source": [
    "# Method 1\n",
    "\n",
    "a = np.random.random((2, 3, 5)) # 2 depth dimensions, 3 rows, 5 columns\n",
    "print(a)"
   ]
  },
  {
   "cell_type": "code",
   "execution_count": 10,
   "metadata": {},
   "outputs": [
    {
     "name": "stdout",
     "output_type": "stream",
     "text": [
      "[[[0.82900488 0.73454109 0.91767468 0.96629992 0.62544855]\n",
      "  [0.80737513 0.04714776 0.06245017 0.26429804 0.6526174 ]\n",
      "  [0.96494927 0.81679881 0.23640714 0.64415859 0.53657613]]\n",
      "\n",
      " [[0.37376372 0.07995551 0.76796276 0.34934927 0.30742639]\n",
      "  [0.56617799 0.51332824 0.9555252  0.58928808 0.97600237]\n",
      "  [0.57446822 0.23507697 0.31005761 0.59423348 0.7736217 ]]]\n"
     ]
    }
   ],
   "source": [
    "# Method 2\n",
    "a1 = np.random.random((3,2,5)).reshape(2,3,5)\n",
    "print(a1)\n"
   ]
  },
  {
   "cell_type": "code",
   "execution_count": 11,
   "metadata": {},
   "outputs": [
    {
     "name": "stdout",
     "output_type": "stream",
     "text": [
      "[[[0.06791244 0.6865864  0.39587633 0.88760671 0.87620588]\n",
      "  [0.68302119 0.68450638 0.60078347 0.21362471 0.6157816 ]\n",
      "  [0.54889482 0.41129848 0.44356585 0.58988725 0.05337614]]\n",
      "\n",
      " [[0.92210398 0.16693163 0.95851295 0.09886761 0.67478257]\n",
      "  [0.62741281 0.21297944 0.26068037 0.79865663 0.718061  ]\n",
      "  [0.55381945 0.05636615 0.64570962 0.38136942 0.7146136 ]]]\n"
     ]
    }
   ],
   "source": [
    "# Method 3\n",
    "a2 = np.random.random((5,2,3)).reshape(2,3,5)\n",
    "print(a2)"
   ]
  },
  {
   "cell_type": "markdown",
   "metadata": {},
   "source": [
    "#### 4. Print *a*.\n"
   ]
  },
  {
   "cell_type": "code",
   "execution_count": 12,
   "metadata": {},
   "outputs": [
    {
     "name": "stdout",
     "output_type": "stream",
     "text": [
      "[[[0.93318069 0.05042614 0.44601816 0.56844454 0.07882009]\n",
      "  [0.06988583 0.54968857 0.34879718 0.61756144 0.01234038]\n",
      "  [0.27513101 0.59712302 0.18000027 0.77342939 0.61332288]]\n",
      "\n",
      " [[0.36506249 0.33199804 0.15172    0.58846996 0.70060608]\n",
      "  [0.76572342 0.56419835 0.97935695 0.9487987  0.88092679]\n",
      "  [0.88790228 0.4419418  0.25306438 0.97404839 0.74296607]]]\n"
     ]
    }
   ],
   "source": [
    "# your code here\n",
    "print(a)"
   ]
  },
  {
   "cell_type": "markdown",
   "metadata": {},
   "source": [
    "#### 5. Create a 5x2x3 3-dimensional array with all values equaling 1. Assign the array to variable *b*."
   ]
  },
  {
   "cell_type": "code",
   "execution_count": 13,
   "metadata": {},
   "outputs": [],
   "source": [
    "# your code here\n",
    "b = np.ones((5,2,3))\n"
   ]
  },
  {
   "cell_type": "markdown",
   "metadata": {},
   "source": [
    "#### 6. Print *b*.\n"
   ]
  },
  {
   "cell_type": "code",
   "execution_count": 14,
   "metadata": {},
   "outputs": [
    {
     "name": "stdout",
     "output_type": "stream",
     "text": [
      "[[[1. 1. 1.]\n",
      "  [1. 1. 1.]]\n",
      "\n",
      " [[1. 1. 1.]\n",
      "  [1. 1. 1.]]\n",
      "\n",
      " [[1. 1. 1.]\n",
      "  [1. 1. 1.]]\n",
      "\n",
      " [[1. 1. 1.]\n",
      "  [1. 1. 1.]]\n",
      "\n",
      " [[1. 1. 1.]\n",
      "  [1. 1. 1.]]]\n"
     ]
    }
   ],
   "source": [
    "# your code here\n",
    "print(b)"
   ]
  },
  {
   "cell_type": "markdown",
   "metadata": {},
   "source": [
    "#### 7. Do *a* and *b* have the same size? How do you prove that in Python code?"
   ]
  },
  {
   "cell_type": "code",
   "execution_count": 15,
   "metadata": {},
   "outputs": [
    {
     "data": {
      "text/plain": [
       "30"
      ]
     },
     "execution_count": 15,
     "metadata": {},
     "output_type": "execute_result"
    }
   ],
   "source": [
    "# your code \n",
    "a.size"
   ]
  },
  {
   "cell_type": "code",
   "execution_count": 16,
   "metadata": {},
   "outputs": [
    {
     "data": {
      "text/plain": [
       "30"
      ]
     },
     "execution_count": 16,
     "metadata": {},
     "output_type": "execute_result"
    }
   ],
   "source": [
    "b.size # a and b have the same size but different shape "
   ]
  },
  {
   "cell_type": "markdown",
   "metadata": {},
   "source": [
    "#### 8. Are you able to add *a* and *b*? Why or why not?\n"
   ]
  },
  {
   "cell_type": "code",
   "execution_count": 17,
   "metadata": {},
   "outputs": [
    {
     "ename": "ValueError",
     "evalue": "operands could not be broadcast together with shapes (2,3,5) (5,2,3) ",
     "output_type": "error",
     "traceback": [
      "\u001b[0;31m---------------------------------------------------------------------------\u001b[0m",
      "\u001b[0;31mValueError\u001b[0m                                Traceback (most recent call last)",
      "\u001b[1;32m/Users/paksivatkinavaleria/Desktop/bootcamp ironhack/labs/lab_NumPy.ipynb Cell 19\u001b[0m line \u001b[0;36m2\n\u001b[1;32m      <a href='vscode-notebook-cell:/Users/paksivatkinavaleria/Desktop/bootcamp%20ironhack/labs/lab_NumPy.ipynb#X24sZmlsZQ%3D%3D?line=0'>1</a>\u001b[0m \u001b[39m# your answer here\u001b[39;00m\n\u001b[0;32m----> <a href='vscode-notebook-cell:/Users/paksivatkinavaleria/Desktop/bootcamp%20ironhack/labs/lab_NumPy.ipynb#X24sZmlsZQ%3D%3D?line=1'>2</a>\u001b[0m a\u001b[39m+\u001b[39;49mb \u001b[39m# a and b have different shapes so we can not sum them \u001b[39;00m\n",
      "\u001b[0;31mValueError\u001b[0m: operands could not be broadcast together with shapes (2,3,5) (5,2,3) "
     ]
    }
   ],
   "source": [
    "# your answer here\n",
    "a+b # a and b have different shapes so we can not sum them "
   ]
  },
  {
   "cell_type": "markdown",
   "metadata": {},
   "source": [
    "#### 9. Transpose *b* so that it has the same structure of *a* (i.e. become a 2x3x5 array). Assign the transposed array to variable *c*."
   ]
  },
  {
   "cell_type": "code",
   "execution_count": 18,
   "metadata": {},
   "outputs": [],
   "source": [
    "# your code here\n",
    "c = b.reshape((2,3,5))"
   ]
  },
  {
   "cell_type": "code",
   "execution_count": 19,
   "metadata": {},
   "outputs": [
    {
     "data": {
      "text/plain": [
       "(2, 3, 5)"
      ]
     },
     "execution_count": 19,
     "metadata": {},
     "output_type": "execute_result"
    }
   ],
   "source": [
    "c.shape"
   ]
  },
  {
   "cell_type": "code",
   "execution_count": 20,
   "metadata": {},
   "outputs": [
    {
     "data": {
      "text/plain": [
       "(2, 3, 5)"
      ]
     },
     "execution_count": 20,
     "metadata": {},
     "output_type": "execute_result"
    }
   ],
   "source": [
    "a.shape"
   ]
  },
  {
   "cell_type": "markdown",
   "metadata": {},
   "source": [
    "#### 10. Try to add *a* and *c*. Now it should work. Assign the sum to variable *d*. But why does it work now?"
   ]
  },
  {
   "cell_type": "code",
   "execution_count": 21,
   "metadata": {},
   "outputs": [],
   "source": [
    "# your code/answer here\n",
    "d = a+c # now a and c have the same shape"
   ]
  },
  {
   "cell_type": "markdown",
   "metadata": {},
   "source": [
    "#### 11. Print *a* and *d*. Notice the difference and relation of the two array in terms of the values? Explain."
   ]
  },
  {
   "cell_type": "code",
   "execution_count": 22,
   "metadata": {},
   "outputs": [
    {
     "name": "stdout",
     "output_type": "stream",
     "text": [
      "[[[0.93318069 0.05042614 0.44601816 0.56844454 0.07882009]\n",
      "  [0.06988583 0.54968857 0.34879718 0.61756144 0.01234038]\n",
      "  [0.27513101 0.59712302 0.18000027 0.77342939 0.61332288]]\n",
      "\n",
      " [[0.36506249 0.33199804 0.15172    0.58846996 0.70060608]\n",
      "  [0.76572342 0.56419835 0.97935695 0.9487987  0.88092679]\n",
      "  [0.88790228 0.4419418  0.25306438 0.97404839 0.74296607]]]\n"
     ]
    }
   ],
   "source": [
    "# your code/answer here\n",
    "print(a)"
   ]
  },
  {
   "cell_type": "code",
   "execution_count": 23,
   "metadata": {},
   "outputs": [
    {
     "name": "stdout",
     "output_type": "stream",
     "text": [
      "[[[1.93318069 1.05042614 1.44601816 1.56844454 1.07882009]\n",
      "  [1.06988583 1.54968857 1.34879718 1.61756144 1.01234038]\n",
      "  [1.27513101 1.59712302 1.18000027 1.77342939 1.61332288]]\n",
      "\n",
      " [[1.36506249 1.33199804 1.15172    1.58846996 1.70060608]\n",
      "  [1.76572342 1.56419835 1.97935695 1.9487987  1.88092679]\n",
      "  [1.88790228 1.4419418  1.25306438 1.97404839 1.74296607]]]\n"
     ]
    }
   ],
   "source": [
    "print(d) # the elements of d matriz are one more than the elements of a"
   ]
  },
  {
   "cell_type": "markdown",
   "metadata": {},
   "source": [
    "#### 12. Multiply *a* and *c*. Assign the result to *e*."
   ]
  },
  {
   "cell_type": "code",
   "execution_count": 24,
   "metadata": {},
   "outputs": [],
   "source": [
    "# your code here\n",
    "e = a*c"
   ]
  },
  {
   "cell_type": "markdown",
   "metadata": {},
   "source": [
    "#### 13. Does *e* equal to *a*? Why or why not?\n"
   ]
  },
  {
   "cell_type": "code",
   "execution_count": 25,
   "metadata": {},
   "outputs": [
    {
     "data": {
      "text/plain": [
       "(2, 3, 5)"
      ]
     },
     "execution_count": 25,
     "metadata": {},
     "output_type": "execute_result"
    }
   ],
   "source": [
    "# your code/answer here\n",
    "e.shape"
   ]
  },
  {
   "cell_type": "code",
   "execution_count": 26,
   "metadata": {},
   "outputs": [
    {
     "data": {
      "text/plain": [
       "(2, 3, 5)"
      ]
     },
     "execution_count": 26,
     "metadata": {},
     "output_type": "execute_result"
    }
   ],
   "source": [
    "a.shape # a and e have the same size and shape but the elements (value of the elements) of these arrays are not the same "
   ]
  },
  {
   "cell_type": "code",
   "execution_count": 28,
   "metadata": {},
   "outputs": [
    {
     "data": {
      "text/plain": [
       "False"
      ]
     },
     "execution_count": 28,
     "metadata": {},
     "output_type": "execute_result"
    }
   ],
   "source": [
    "a is e"
   ]
  },
  {
   "cell_type": "markdown",
   "metadata": {},
   "source": [
    "#### 14. Identify the max, min, and mean values in *d*. Assign those values to variables *d_max*, *d_min* and *d_mean*."
   ]
  },
  {
   "cell_type": "code",
   "execution_count": 83,
   "metadata": {},
   "outputs": [
    {
     "name": "stdout",
     "output_type": "stream",
     "text": [
      "1.9167252727209203\n"
     ]
    }
   ],
   "source": [
    "# your code here\n",
    "d_max = d.max()\n",
    "print(d_max)"
   ]
  },
  {
   "cell_type": "code",
   "execution_count": 84,
   "metadata": {},
   "outputs": [
    {
     "name": "stdout",
     "output_type": "stream",
     "text": [
      "1.0179287901174003\n"
     ]
    }
   ],
   "source": [
    "d_min = d.min()\n",
    "print(d_min)"
   ]
  },
  {
   "cell_type": "code",
   "execution_count": 86,
   "metadata": {},
   "outputs": [
    {
     "name": "stdout",
     "output_type": "stream",
     "text": [
      "1.4971033974890786\n"
     ]
    }
   ],
   "source": [
    "d_mean = d.mean()\n",
    "print(d_mean)"
   ]
  },
  {
   "cell_type": "markdown",
   "metadata": {},
   "source": [
    "#### 15. Now we want to label the values in *d*. First create an empty array *f* with the same shape (i.e. 2x3x5) as *d* using `np.empty`.\n"
   ]
  },
  {
   "cell_type": "code",
   "execution_count": 110,
   "metadata": {},
   "outputs": [
    {
     "name": "stdout",
     "output_type": "stream",
     "text": [
      "[[[0.59114434 0.37944836 0.91626046 0.28495271 0.89749593]\n",
      "  [0.15825395 0.78648961 0.90840195 0.3358441  0.50104904]\n",
      "  [0.01792879 0.51269949 0.02067997 0.02399822 0.6121325 ]]\n",
      "\n",
      " [[0.44436133 0.52541945 0.65988746 0.08534969 0.64490226]\n",
      "  [0.7655799  0.11094524 0.12047281 0.75611219 0.91672527]\n",
      "  [0.81741014 0.81540404 0.05637857 0.7579681  0.48940603]]]\n"
     ]
    }
   ],
   "source": [
    "# your code here\n",
    "f = np.empty_like(d)\n",
    "print(f)"
   ]
  },
  {
   "cell_type": "code",
   "execution_count": 123,
   "metadata": {},
   "outputs": [],
   "source": [
    "f1 = np.empty_like(d)"
   ]
  },
  {
   "cell_type": "markdown",
   "metadata": {},
   "source": [
    "#### 16. Populate the values in *f*. \n",
    "\n",
    "For each value in *d*, if it's larger than *d_min* but smaller than *d_mean*, assign 25 to the corresponding value in *f*. If a value in *d* is larger than *d_mean* but smaller than *d_max*, assign 75 to the corresponding value in *f*. If a value equals to *d_mean*, assign 50 to the corresponding value in *f*. Assign 0 to the corresponding value(s) in *f* for *d_min* in *d*. Assign 100 to the corresponding value(s) in *f* for *d_max* in *d*. In the end, f should have only the following values: 0, 25, 50, 75, and 100.\n",
    "\n",
    "**Note**: you don't have to use Numpy in this question."
   ]
  },
  {
   "cell_type": "code",
   "execution_count": 120,
   "metadata": {},
   "outputs": [
    {
     "name": "stdout",
     "output_type": "stream",
     "text": [
      "[[[ 75.  25.  75.  25.  75.]\n",
      "  [ 25.  75.  75.  25.  75.]\n",
      "  [  0.  75.  25.  25.  75.]]\n",
      "\n",
      " [[ 25.  75.  75.  25.  75.]\n",
      "  [ 75.  25.  25.  75. 100.]\n",
      "  [ 75.  75.  25.  75.  25.]]]\n"
     ]
    }
   ],
   "source": [
    "for i, value_i in enumerate(d):\n",
    "    for j, value_j in enumerate(value_i):\n",
    "        for index, value in enumerate(value_j):\n",
    "            if value > d_min and value < d_mean:\n",
    "                value = 25\n",
    "                f[i][j][index] = value\n",
    "        \n",
    "            if value > d_mean and value < d_max:\n",
    "                value = 75\n",
    "                f[i][j][index] = value\n",
    "        \n",
    "            if value == d_mean:\n",
    "                value = 50\n",
    "                f[i][j][index] = value\n",
    "        \n",
    "            if value == d_min:\n",
    "                value = 0\n",
    "                f[i][j][index] = value\n",
    "        \n",
    "            if value == d_max:\n",
    "                value = 100\n",
    "                f[i][j][index] = value\n",
    "print(f)                "
   ]
  },
  {
   "cell_type": "markdown",
   "metadata": {},
   "source": [
    "#### 17. Print *d* and *f*. Do you have your expected *f*?\n",
    "For instance, if your *d* is:\n",
    "```python\n",
    "[[[1.85836099, 1.67064465, 1.62576044, 1.40243961, 1.88454931],\n",
    "[1.75354326, 1.69403643, 1.36729252, 1.61415071, 1.12104981],\n",
    "[1.72201435, 1.1862918 , 1.87078449, 1.7726778 , 1.88180042]],\n",
    "[[1.44747908, 1.31673383, 1.02000951, 1.52218947, 1.97066381],\n",
    "[1.79129243, 1.74983003, 1.96028037, 1.85166831, 1.65450881],\n",
    "[1.18068344, 1.9587381 , 1.00656599, 1.93402165, 1.73514584]]]\n",
    "```\n",
    "Your *f* should be:\n",
    "```python\n",
    "[[[ 75.,  75.,  75.,  25.,  75.],\n",
    "[ 75.,  75.,  25.,  25.,  25.],\n",
    "[ 75.,  25.,  75.,  75.,  75.]],\n",
    "[[ 25.,  25.,  25.,  25., 100.],\n",
    "[ 75.,  75.,  75.,  75.,  75.],\n",
    "[ 25.,  75.,   0.,  75.,  75.]]]\n",
    "```"
   ]
  },
  {
   "cell_type": "code",
   "execution_count": 121,
   "metadata": {},
   "outputs": [
    {
     "name": "stdout",
     "output_type": "stream",
     "text": [
      "[[[1.59114434 1.37944836 1.91626046 1.28495271 1.89749593]\n",
      "  [1.15825395 1.78648961 1.90840195 1.3358441  1.50104904]\n",
      "  [1.01792879 1.51269949 1.02067997 1.02399822 1.6121325 ]]\n",
      "\n",
      " [[1.44436133 1.52541945 1.65988746 1.08534969 1.64490226]\n",
      "  [1.7655799  1.11094524 1.12047281 1.75611219 1.91672527]\n",
      "  [1.81741014 1.81540404 1.05637857 1.7579681  1.48940603]]]\n"
     ]
    }
   ],
   "source": [
    "# your code here\n",
    "print(d)"
   ]
  },
  {
   "cell_type": "code",
   "execution_count": 122,
   "metadata": {},
   "outputs": [
    {
     "name": "stdout",
     "output_type": "stream",
     "text": [
      "[[[ 75.  25.  75.  25.  75.]\n",
      "  [ 25.  75.  75.  25.  75.]\n",
      "  [  0.  75.  25.  25.  75.]]\n",
      "\n",
      " [[ 25.  75.  75.  25.  75.]\n",
      "  [ 75.  25.  25.  75. 100.]\n",
      "  [ 75.  75.  25.  75.  25.]]]\n"
     ]
    }
   ],
   "source": [
    "print(f)"
   ]
  },
  {
   "cell_type": "markdown",
   "metadata": {},
   "source": [
    "#### 18. Bonus question: instead of using numbers (i.e. 0, 25, 50, 75, and 100), use string values  (\"A\", \"B\", \"C\", \"D\", and \"E\") to label the array elements. For the example above, the expected result is:\n",
    "\n",
    "```python\n",
    "[[[ 'D',  'D',  'D',  'B',  'D'],\n",
    "[ 'D',  'D',  'B',  'B',  'B'],\n",
    "[ 'D',  'B',  'D',  'D',  'D']],\n",
    "[[ 'B',  'B',  'B',  'B',  'E'],\n",
    "[ 'D',  'D',  'D',  'D',  'D'],\n",
    "[ 'B',  'D',   'A',  'D', 'D']]]\n",
    "```\n",
    "**Note**: you don't have to use Numpy in this question."
   ]
  },
  {
   "cell_type": "code",
   "execution_count": 140,
   "metadata": {},
   "outputs": [
    {
     "name": "stdout",
     "output_type": "stream",
     "text": [
      "[[['D' 'B' 'D' 'B' 'D']\n",
      "  ['B' 'D' 'D' 'B' 'D']\n",
      "  ['A' 'D' 'B' 'B' 'D']]\n",
      "\n",
      " [['B' 'D' 'D' 'B' 'D']\n",
      "  ['D' 'B' 'B' 'D' 'E']\n",
      "  ['D' 'D' 'B' 'D' 'B']]]\n"
     ]
    }
   ],
   "source": [
    "# your code here\n",
    "letras = np.where(f == 0, 'A', np.where (f == 25, 'B', np.where(f==50, 'C',np.where(f==75,'D', 'E'))))\n",
    "print(letras)"
   ]
  }
 ],
 "metadata": {
  "kernelspec": {
   "display_name": "Python 3",
   "language": "python",
   "name": "python3"
  },
  "language_info": {
   "codemirror_mode": {
    "name": "ipython",
    "version": 3
   },
   "file_extension": ".py",
   "mimetype": "text/x-python",
   "name": "python",
   "nbconvert_exporter": "python",
   "pygments_lexer": "ipython3",
   "version": "3.11.0"
  }
 },
 "nbformat": 4,
 "nbformat_minor": 2
}
