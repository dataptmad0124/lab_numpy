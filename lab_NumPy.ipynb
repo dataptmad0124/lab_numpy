{
 "cells": [
  {
   "cell_type": "markdown",
   "metadata": {},
   "source": [
    "# Introduction to NumPy\n",
    "\n",
    "\n",
    "#### 1. Import NumPy under the name np."
   ]
  },
  {
   "cell_type": "code",
   "execution_count": 2,
   "metadata": {},
   "outputs": [],
   "source": [
    "# your code here\n",
    "import numpy as np"
   ]
  },
  {
   "cell_type": "markdown",
   "metadata": {},
   "source": [
    "#### 2. Print your NumPy version."
   ]
  },
  {
   "cell_type": "code",
   "execution_count": 3,
   "metadata": {},
   "outputs": [
    {
     "name": "stdout",
     "output_type": "stream",
     "text": [
      "1.26.3\n"
     ]
    }
   ],
   "source": [
    "# your code here\n",
    "print(np.__version__)"
   ]
  },
  {
   "cell_type": "markdown",
   "metadata": {},
   "source": [
    "#### 3. Generate a 2x3x5 3-dimensional array with random values. Assign the array to variable *a*.\n",
    "**Challenge**: there are at least three easy ways that use numpy to generate random arrays. How many ways can you find?"
   ]
  },
  {
   "cell_type": "code",
   "execution_count": 4,
   "metadata": {},
   "outputs": [
    {
     "name": "stdout",
     "output_type": "stream",
     "text": [
      "[[[0.02979186 0.46929764 0.19613592 0.91514736 0.54193985]\n",
      "  [0.88030374 0.24241927 0.09518298 0.10672968 0.90031826]\n",
      "  [0.70714432 0.17127738 0.67840247 0.01753401 0.86967596]]\n",
      "\n",
      " [[0.9272832  0.6052259  0.34421499 0.31868377 0.66842281]\n",
      "  [0.72658903 0.12022482 0.90381248 0.22819196 0.21517867]\n",
      "  [0.78803484 0.67654768 0.19859095 0.29876649 0.35485926]]]\n"
     ]
    }
   ],
   "source": [
    "# Method 1\n",
    "\n",
    "a = np.random.random((2, 3, 5)) # 2 depth dimensions, 3 rows, 5 columns\n",
    "print(a)"
   ]
  },
  {
   "cell_type": "code",
   "execution_count": 5,
   "metadata": {},
   "outputs": [
    {
     "name": "stdout",
     "output_type": "stream",
     "text": [
      "[[[0.18792701 0.64743331 0.82439014 0.59699493 0.95771677]\n",
      "  [0.21126777 0.87645846 0.22386213 0.7486501  0.24924932]\n",
      "  [0.6100611  0.45099302 0.2239296  0.37952269 0.90101964]]\n",
      "\n",
      " [[0.68153429 0.91543207 0.27483665 0.30236765 0.89839769]\n",
      "  [0.9585053  0.23410927 0.21782275 0.00963436 0.58650893]\n",
      "  [0.87107231 0.46831513 0.29761557 0.53115743 0.65174375]]]\n"
     ]
    }
   ],
   "source": [
    "# Method 2\n",
    "a1 = np.random.random((3,2,5)).reshape(2,3,5)\n",
    "print(a1)\n"
   ]
  },
  {
   "cell_type": "code",
   "execution_count": 6,
   "metadata": {},
   "outputs": [
    {
     "name": "stdout",
     "output_type": "stream",
     "text": [
      "[[[0.51862812 0.75356282 0.30475473 0.25346314 0.43042288]\n",
      "  [0.8410534  0.42241519 0.86116164 0.10515101 0.32592852]\n",
      "  [0.0129384  0.33429186 0.29103169 0.31683938 0.36599611]]\n",
      "\n",
      " [[0.51336816 0.42260056 0.96384839 0.3907078  0.47374043]\n",
      "  [0.72292501 0.08225426 0.5337485  0.43499495 0.12260219]\n",
      "  [0.32702764 0.30094805 0.62182955 0.09438053 0.95068823]]]\n"
     ]
    }
   ],
   "source": [
    "# Method 3\n",
    "a2 = np.random.random((5,2,3)).reshape(2,3,5)\n",
    "print(a2)"
   ]
  },
  {
   "cell_type": "code",
   "execution_count": 7,
   "metadata": {},
   "outputs": [
    {
     "data": {
      "text/plain": [
       "array([[[0.1038725 , 0.80880801, 0.61484323, 0.80774791, 0.4245202 ],\n",
       "        [0.018946  , 0.02661383, 0.2642545 , 0.98989393, 0.88948144],\n",
       "        [0.76904304, 0.95377895, 0.81323465, 0.04839447, 0.97514456]],\n",
       "\n",
       "       [[0.34031921, 0.71565945, 0.87674889, 0.60033331, 0.72021361],\n",
       "        [0.57934085, 0.38513618, 0.88428459, 0.64261253, 0.20610801],\n",
       "        [0.37821756, 0.31328055, 0.5763612 , 0.88370628, 0.10367031]]])"
      ]
     },
     "execution_count": 7,
     "metadata": {},
     "output_type": "execute_result"
    }
   ],
   "source": [
    "np.random.rand(2,3,5)"
   ]
  },
  {
   "cell_type": "code",
   "execution_count": 8,
   "metadata": {},
   "outputs": [
    {
     "data": {
      "text/plain": [
       "array([[[0.16778907, 0.92296763, 0.84654025, 0.26677143, 0.5556172 ],\n",
       "        [0.76019107, 0.41354919, 0.74158795, 0.9919203 , 0.3964976 ],\n",
       "        [0.11429848, 0.2107982 , 0.04183042, 0.93817297, 0.39670263]],\n",
       "\n",
       "       [[0.02291826, 0.02039401, 0.20303736, 0.84732782, 0.21575552],\n",
       "        [0.88228829, 0.81008203, 0.0077775 , 0.87996791, 0.27533304],\n",
       "        [0.71787869, 0.98222909, 0.2422362 , 0.55263611, 0.67547509]]])"
      ]
     },
     "execution_count": 8,
     "metadata": {},
     "output_type": "execute_result"
    }
   ],
   "source": [
    "np.random.random_sample((2,3,5))"
   ]
  },
  {
   "cell_type": "markdown",
   "metadata": {},
   "source": [
    "#### 4. Print *a*.\n"
   ]
  },
  {
   "cell_type": "code",
   "execution_count": 9,
   "metadata": {},
   "outputs": [
    {
     "name": "stdout",
     "output_type": "stream",
     "text": [
      "[[[0.02979186 0.46929764 0.19613592 0.91514736 0.54193985]\n",
      "  [0.88030374 0.24241927 0.09518298 0.10672968 0.90031826]\n",
      "  [0.70714432 0.17127738 0.67840247 0.01753401 0.86967596]]\n",
      "\n",
      " [[0.9272832  0.6052259  0.34421499 0.31868377 0.66842281]\n",
      "  [0.72658903 0.12022482 0.90381248 0.22819196 0.21517867]\n",
      "  [0.78803484 0.67654768 0.19859095 0.29876649 0.35485926]]]\n"
     ]
    }
   ],
   "source": [
    "# your code here\n",
    "print(a)"
   ]
  },
  {
   "cell_type": "markdown",
   "metadata": {},
   "source": [
    "#### 5. Create a 5x2x3 3-dimensional array with all values equaling 1. Assign the array to variable *b*."
   ]
  },
  {
   "cell_type": "code",
   "execution_count": 10,
   "metadata": {},
   "outputs": [],
   "source": [
    "# your code here\n",
    "b = np.ones((5,2,3))\n"
   ]
  },
  {
   "cell_type": "markdown",
   "metadata": {},
   "source": [
    "#### 6. Print *b*.\n"
   ]
  },
  {
   "cell_type": "code",
   "execution_count": 11,
   "metadata": {},
   "outputs": [
    {
     "name": "stdout",
     "output_type": "stream",
     "text": [
      "[[[1. 1. 1.]\n",
      "  [1. 1. 1.]]\n",
      "\n",
      " [[1. 1. 1.]\n",
      "  [1. 1. 1.]]\n",
      "\n",
      " [[1. 1. 1.]\n",
      "  [1. 1. 1.]]\n",
      "\n",
      " [[1. 1. 1.]\n",
      "  [1. 1. 1.]]\n",
      "\n",
      " [[1. 1. 1.]\n",
      "  [1. 1. 1.]]]\n"
     ]
    }
   ],
   "source": [
    "# your code here\n",
    "print(b)"
   ]
  },
  {
   "cell_type": "markdown",
   "metadata": {},
   "source": [
    "#### 7. Do *a* and *b* have the same size? How do you prove that in Python code?"
   ]
  },
  {
   "cell_type": "code",
   "execution_count": 12,
   "metadata": {},
   "outputs": [
    {
     "data": {
      "text/plain": [
       "30"
      ]
     },
     "execution_count": 12,
     "metadata": {},
     "output_type": "execute_result"
    }
   ],
   "source": [
    "# your code \n",
    "a.size"
   ]
  },
  {
   "cell_type": "code",
   "execution_count": 13,
   "metadata": {},
   "outputs": [
    {
     "data": {
      "text/plain": [
       "30"
      ]
     },
     "execution_count": 13,
     "metadata": {},
     "output_type": "execute_result"
    }
   ],
   "source": [
    "b.size # a and b have the same size but different shape "
   ]
  },
  {
   "cell_type": "code",
   "execution_count": 14,
   "metadata": {},
   "outputs": [
    {
     "data": {
      "text/plain": [
       "True"
      ]
     },
     "execution_count": 14,
     "metadata": {},
     "output_type": "execute_result"
    }
   ],
   "source": [
    "a.size == b.size"
   ]
  },
  {
   "cell_type": "markdown",
   "metadata": {},
   "source": [
    "#### 8. Are you able to add *a* and *b*? Why or why not?\n"
   ]
  },
  {
   "cell_type": "code",
   "execution_count": 15,
   "metadata": {},
   "outputs": [
    {
     "ename": "ValueError",
     "evalue": "operands could not be broadcast together with shapes (2,3,5) (5,2,3) ",
     "output_type": "error",
     "traceback": [
      "\u001b[0;31m---------------------------------------------------------------------------\u001b[0m",
      "\u001b[0;31mValueError\u001b[0m                                Traceback (most recent call last)",
      "\u001b[1;32m/Users/paksivatkinavaleria/Desktop/bootcamp ironhack/labs/lab_NumPy.ipynb Cell 22\u001b[0m line \u001b[0;36m2\n\u001b[1;32m      <a href='vscode-notebook-cell:/Users/paksivatkinavaleria/Desktop/bootcamp%20ironhack/labs/lab_NumPy.ipynb#X26sZmlsZQ%3D%3D?line=0'>1</a>\u001b[0m \u001b[39m# your answer here\u001b[39;00m\n\u001b[0;32m----> <a href='vscode-notebook-cell:/Users/paksivatkinavaleria/Desktop/bootcamp%20ironhack/labs/lab_NumPy.ipynb#X26sZmlsZQ%3D%3D?line=1'>2</a>\u001b[0m a\u001b[39m+\u001b[39;49mb \u001b[39m# a and b have different shapes so we can not sum them \u001b[39;00m\n",
      "\u001b[0;31mValueError\u001b[0m: operands could not be broadcast together with shapes (2,3,5) (5,2,3) "
     ]
    }
   ],
   "source": [
    "# your answer here\n",
    "a+b # a and b have different shapes so we can not sum them "
   ]
  },
  {
   "cell_type": "markdown",
   "metadata": {},
   "source": [
    "#### 9. Transpose *b* so that it has the same structure of *a* (i.e. become a 2x3x5 array). Assign the transposed array to variable *c*."
   ]
  },
  {
   "cell_type": "code",
   "execution_count": 16,
   "metadata": {},
   "outputs": [],
   "source": [
    "# your code here\n",
    "c = b.transpose(1,2,0)"
   ]
  },
  {
   "cell_type": "code",
   "execution_count": 17,
   "metadata": {},
   "outputs": [
    {
     "data": {
      "text/plain": [
       "(2, 3, 5)"
      ]
     },
     "execution_count": 17,
     "metadata": {},
     "output_type": "execute_result"
    }
   ],
   "source": [
    "c.shape"
   ]
  },
  {
   "cell_type": "code",
   "execution_count": 18,
   "metadata": {},
   "outputs": [
    {
     "data": {
      "text/plain": [
       "(2, 3, 5)"
      ]
     },
     "execution_count": 18,
     "metadata": {},
     "output_type": "execute_result"
    }
   ],
   "source": [
    "a.shape"
   ]
  },
  {
   "cell_type": "markdown",
   "metadata": {},
   "source": [
    "#### 10. Try to add *a* and *c*. Now it should work. Assign the sum to variable *d*. But why does it work now?"
   ]
  },
  {
   "cell_type": "code",
   "execution_count": 19,
   "metadata": {},
   "outputs": [],
   "source": [
    "# your code/answer here\n",
    "d = a+c # now a and c have the same shape"
   ]
  },
  {
   "cell_type": "markdown",
   "metadata": {},
   "source": [
    "#### 11. Print *a* and *d*. Notice the difference and relation of the two array in terms of the values? Explain."
   ]
  },
  {
   "cell_type": "code",
   "execution_count": 20,
   "metadata": {},
   "outputs": [
    {
     "name": "stdout",
     "output_type": "stream",
     "text": [
      "[[[0.02979186 0.46929764 0.19613592 0.91514736 0.54193985]\n",
      "  [0.88030374 0.24241927 0.09518298 0.10672968 0.90031826]\n",
      "  [0.70714432 0.17127738 0.67840247 0.01753401 0.86967596]]\n",
      "\n",
      " [[0.9272832  0.6052259  0.34421499 0.31868377 0.66842281]\n",
      "  [0.72658903 0.12022482 0.90381248 0.22819196 0.21517867]\n",
      "  [0.78803484 0.67654768 0.19859095 0.29876649 0.35485926]]]\n"
     ]
    }
   ],
   "source": [
    "# your code/answer here\n",
    "print(a)"
   ]
  },
  {
   "cell_type": "code",
   "execution_count": 21,
   "metadata": {},
   "outputs": [
    {
     "name": "stdout",
     "output_type": "stream",
     "text": [
      "[[[1.02979186 1.46929764 1.19613592 1.91514736 1.54193985]\n",
      "  [1.88030374 1.24241927 1.09518298 1.10672968 1.90031826]\n",
      "  [1.70714432 1.17127738 1.67840247 1.01753401 1.86967596]]\n",
      "\n",
      " [[1.9272832  1.6052259  1.34421499 1.31868377 1.66842281]\n",
      "  [1.72658903 1.12022482 1.90381248 1.22819196 1.21517867]\n",
      "  [1.78803484 1.67654768 1.19859095 1.29876649 1.35485926]]]\n"
     ]
    }
   ],
   "source": [
    "print(d) # the elements of d matriz are one more than the elements of a"
   ]
  },
  {
   "cell_type": "markdown",
   "metadata": {},
   "source": [
    "#### 12. Multiply *a* and *c*. Assign the result to *e*."
   ]
  },
  {
   "cell_type": "code",
   "execution_count": 22,
   "metadata": {},
   "outputs": [],
   "source": [
    "# your code here\n",
    "e = a*c"
   ]
  },
  {
   "cell_type": "markdown",
   "metadata": {},
   "source": [
    "#### 13. Does *e* equal to *a*? Why or why not?\n"
   ]
  },
  {
   "cell_type": "code",
   "execution_count": 23,
   "metadata": {},
   "outputs": [
    {
     "data": {
      "text/plain": [
       "(2, 3, 5)"
      ]
     },
     "execution_count": 23,
     "metadata": {},
     "output_type": "execute_result"
    }
   ],
   "source": [
    "# your code/answer here\n",
    "e.shape"
   ]
  },
  {
   "cell_type": "code",
   "execution_count": 24,
   "metadata": {},
   "outputs": [
    {
     "data": {
      "text/plain": [
       "(2, 3, 5)"
      ]
     },
     "execution_count": 24,
     "metadata": {},
     "output_type": "execute_result"
    }
   ],
   "source": [
    "a.shape # a and e have the same size and shape but the elements (value of the elements) of these arrays are not the same "
   ]
  },
  {
   "cell_type": "code",
   "execution_count": 25,
   "metadata": {},
   "outputs": [
    {
     "data": {
      "text/plain": [
       "array([[[ True,  True,  True,  True,  True],\n",
       "        [ True,  True,  True,  True,  True],\n",
       "        [ True,  True,  True,  True,  True]],\n",
       "\n",
       "       [[ True,  True,  True,  True,  True],\n",
       "        [ True,  True,  True,  True,  True],\n",
       "        [ True,  True,  True,  True,  True]]])"
      ]
     },
     "execution_count": 25,
     "metadata": {},
     "output_type": "execute_result"
    }
   ],
   "source": [
    "a == e"
   ]
  },
  {
   "cell_type": "markdown",
   "metadata": {},
   "source": [
    "#### 14. Identify the max, min, and mean values in *d*. Assign those values to variables *d_max*, *d_min* and *d_mean*."
   ]
  },
  {
   "cell_type": "code",
   "execution_count": 26,
   "metadata": {},
   "outputs": [
    {
     "name": "stdout",
     "output_type": "stream",
     "text": [
      "1.9272831979972298\n"
     ]
    }
   ],
   "source": [
    "# your code here\n",
    "d_max = d.max()\n",
    "print(d_max)"
   ]
  },
  {
   "cell_type": "code",
   "execution_count": 27,
   "metadata": {},
   "outputs": [
    {
     "name": "stdout",
     "output_type": "stream",
     "text": [
      "1.0175340056912738\n"
     ]
    }
   ],
   "source": [
    "d_min = d.min()\n",
    "print(d_min)"
   ]
  },
  {
   "cell_type": "code",
   "execution_count": 28,
   "metadata": {},
   "outputs": [
    {
     "name": "stdout",
     "output_type": "stream",
     "text": [
      "1.4731975848929402\n"
     ]
    }
   ],
   "source": [
    "d_mean = d.mean()\n",
    "print(d_mean)"
   ]
  },
  {
   "cell_type": "markdown",
   "metadata": {},
   "source": [
    "#### 15. Now we want to label the values in *d*. First create an empty array *f* with the same shape (i.e. 2x3x5) as *d* using `np.empty`.\n"
   ]
  },
  {
   "cell_type": "code",
   "execution_count": 29,
   "metadata": {},
   "outputs": [
    {
     "name": "stdout",
     "output_type": "stream",
     "text": [
      "[[[1.02979186 1.46929764 1.19613592 1.91514736 1.54193985]\n",
      "  [1.88030374 1.24241927 1.09518298 1.10672968 1.90031826]\n",
      "  [1.70714432 1.17127738 1.67840247 1.01753401 1.86967596]]\n",
      "\n",
      " [[1.9272832  1.6052259  1.34421499 1.31868377 1.66842281]\n",
      "  [1.72658903 1.12022482 1.90381248 1.22819196 1.21517867]\n",
      "  [1.78803484 1.67654768 1.19859095 1.29876649 1.35485926]]]\n"
     ]
    }
   ],
   "source": [
    "# your code here\n",
    "f = np.empty_like(d)\n",
    "print(f)"
   ]
  },
  {
   "cell_type": "markdown",
   "metadata": {},
   "source": [
    "#### 16. Populate the values in *f*. \n",
    "\n",
    "For each value in *d*, if it's larger than *d_min* but smaller than *d_mean*, assign 25 to the corresponding value in *f*. If a value in *d* is larger than *d_mean* but smaller than *d_max*, assign 75 to the corresponding value in *f*. If a value equals to *d_mean*, assign 50 to the corresponding value in *f*. Assign 0 to the corresponding value(s) in *f* for *d_min* in *d*. Assign 100 to the corresponding value(s) in *f* for *d_max* in *d*. In the end, f should have only the following values: 0, 25, 50, 75, and 100.\n",
    "\n",
    "**Note**: you don't have to use Numpy in this question."
   ]
  },
  {
   "cell_type": "code",
   "execution_count": 34,
   "metadata": {},
   "outputs": [
    {
     "name": "stdout",
     "output_type": "stream",
     "text": [
      "CPU times: user 137 µs, sys: 22 µs, total: 159 µs\n",
      "Wall time: 225 µs\n"
     ]
    }
   ],
   "source": [
    "%%time\n",
    "for capa in range(f.shape[0]): # 2 dimesions\n",
    "    for fila in range(f.shape[1]): # 3 rows \n",
    "        for col in range(f.shape[2]): # 5 columns\n",
    "            \n",
    "            if d_min == d[capa][fila][col]: # if it is the min value, put 0 in f matrix\n",
    "                \n",
    "                f[capa][fila][col] = 0\n",
    "                \n",
    "            \n",
    "            elif d_min < d[capa][fila][col] < d_mean: # if it is between mean value and min value, put 25 in f matrix\n",
    "                \n",
    "                f[capa][fila][col] = 25\n",
    "                \n",
    "                \n",
    "            elif d_mean == d[capa][fila][col]: # if it is mean value put 50 in f matrix\n",
    "                \n",
    "                f[capa][fila][col] = 50\n",
    "                \n",
    "                \n",
    "            elif d_mean < d[capa][fila][col] < d_max: # if it is value between mean value and max value put 75 in f matrix\n",
    "                \n",
    "                f[capa][fila][col] = 75\n",
    "                \n",
    "                \n",
    "            elif d_max == d[capa][fila][col]: # if it is max value put 100 in f matrix\n",
    "                \n",
    "                f[capa][fila][col] = 100\n",
    "        "
   ]
  },
  {
   "cell_type": "code",
   "execution_count": 32,
   "metadata": {},
   "outputs": [
    {
     "name": "stdout",
     "output_type": "stream",
     "text": [
      "[[[ 25.  25.  25.  75.  75.]\n",
      "  [ 75.  25.  25.  25.  75.]\n",
      "  [ 75.  25.  75.   0.  75.]]\n",
      "\n",
      " [[100.  75.  25.  25.  75.]\n",
      "  [ 75.  25.  75.  25.  25.]\n",
      "  [ 75.  75.  25.  25.  25.]]]\n"
     ]
    }
   ],
   "source": [
    "print(f)"
   ]
  },
  {
   "cell_type": "code",
   "execution_count": 55,
   "metadata": {},
   "outputs": [
    {
     "name": "stdout",
     "output_type": "stream",
     "text": [
      "CPU times: user 70 µs, sys: 1 µs, total: 71 µs\n",
      "Wall time: 87 µs\n"
     ]
    },
    {
     "data": {
      "text/plain": [
       "array([[[ 25,  25,  25,  75,  75],\n",
       "        [ 75,  25,  25,  25,  75],\n",
       "        [ 75,  25,  75,   0,  75]],\n",
       "\n",
       "       [[100,  75,  25,  25,  75],\n",
       "        [ 75,  25,  75,  25,  25],\n",
       "        [ 75,  75,  25,  25,  25]]])"
      ]
     },
     "execution_count": 55,
     "metadata": {},
     "output_type": "execute_result"
    }
   ],
   "source": [
    "%%time\n",
    "np.where ((d > d_min) & (d<d_mean), 25, \n",
    "        np.where(d == d_mean, 50, \n",
    "                np.where(d == d_min,0, \n",
    "                        np.where(d == d_max, 100,75))))"
   ]
  },
  {
   "cell_type": "markdown",
   "metadata": {},
   "source": [
    "#### 17. Print *d* and *f*. Do you have your expected *f*?\n",
    "For instance, if your *d* is:\n",
    "```python\n",
    "[[[1.85836099, 1.67064465, 1.62576044, 1.40243961, 1.88454931],\n",
    "[1.75354326, 1.69403643, 1.36729252, 1.61415071, 1.12104981],\n",
    "[1.72201435, 1.1862918 , 1.87078449, 1.7726778 , 1.88180042]],\n",
    "[[1.44747908, 1.31673383, 1.02000951, 1.52218947, 1.97066381],\n",
    "[1.79129243, 1.74983003, 1.96028037, 1.85166831, 1.65450881],\n",
    "[1.18068344, 1.9587381 , 1.00656599, 1.93402165, 1.73514584]]]\n",
    "```\n",
    "Your *f* should be:\n",
    "```python\n",
    "[[[ 75.,  75.,  75.,  25.,  75.],\n",
    "[ 75.,  75.,  25.,  25.,  25.],\n",
    "[ 75.,  25.,  75.,  75.,  75.]],\n",
    "[[ 25.,  25.,  25.,  25., 100.],\n",
    "[ 75.,  75.,  75.,  75.,  75.],\n",
    "[ 25.,  75.,   0.,  75.,  75.]]]\n",
    "```"
   ]
  },
  {
   "cell_type": "code",
   "execution_count": 57,
   "metadata": {},
   "outputs": [
    {
     "name": "stdout",
     "output_type": "stream",
     "text": [
      "[[[1.02979186 1.46929764 1.19613592 1.91514736 1.54193985]\n",
      "  [1.88030374 1.24241927 1.09518298 1.10672968 1.90031826]\n",
      "  [1.70714432 1.17127738 1.67840247 1.01753401 1.86967596]]\n",
      "\n",
      " [[1.9272832  1.6052259  1.34421499 1.31868377 1.66842281]\n",
      "  [1.72658903 1.12022482 1.90381248 1.22819196 1.21517867]\n",
      "  [1.78803484 1.67654768 1.19859095 1.29876649 1.35485926]]]\n"
     ]
    }
   ],
   "source": [
    "# your code here\n",
    "print(d)"
   ]
  },
  {
   "cell_type": "code",
   "execution_count": 58,
   "metadata": {},
   "outputs": [
    {
     "name": "stdout",
     "output_type": "stream",
     "text": [
      "[[[ 25.  25.  25.  75.  75.]\n",
      "  [ 75.  25.  25.  25.  75.]\n",
      "  [ 75.  25.  75.   0.  75.]]\n",
      "\n",
      " [[100.  75.  25.  25.  75.]\n",
      "  [ 75.  25.  75.  25.  25.]\n",
      "  [ 75.  75.  25.  25.  25.]]]\n"
     ]
    }
   ],
   "source": [
    "print(f)"
   ]
  },
  {
   "cell_type": "markdown",
   "metadata": {},
   "source": [
    "#### 18. Bonus question: instead of using numbers (i.e. 0, 25, 50, 75, and 100), use string values  (\"A\", \"B\", \"C\", \"D\", and \"E\") to label the array elements. For the example above, the expected result is:\n",
    "\n",
    "```python\n",
    "[[[ 'D',  'D',  'D',  'B',  'D'],\n",
    "[ 'D',  'D',  'B',  'B',  'B'],\n",
    "[ 'D',  'B',  'D',  'D',  'D']],\n",
    "[[ 'B',  'B',  'B',  'B',  'E'],\n",
    "[ 'D',  'D',  'D',  'D',  'D'],\n",
    "[ 'B',  'D',   'A',  'D', 'D']]]\n",
    "```\n",
    "**Note**: you don't have to use Numpy in this question."
   ]
  },
  {
   "cell_type": "code",
   "execution_count": 59,
   "metadata": {},
   "outputs": [
    {
     "name": "stdout",
     "output_type": "stream",
     "text": [
      "[[['B' 'B' 'B' 'D' 'D']\n",
      "  ['D' 'B' 'B' 'B' 'D']\n",
      "  ['D' 'B' 'D' 'A' 'D']]\n",
      "\n",
      " [['E' 'D' 'B' 'B' 'D']\n",
      "  ['D' 'B' 'D' 'B' 'B']\n",
      "  ['D' 'D' 'B' 'B' 'B']]]\n"
     ]
    }
   ],
   "source": [
    "# your code here\n",
    "letras = np.where(f == 0, 'A', np.where (f == 25, 'B', np.where(f==50, 'C',np.where(f==75,'D', 'E'))))\n",
    "print(letras)"
   ]
  }
 ],
 "metadata": {
  "kernelspec": {
   "display_name": "Python 3",
   "language": "python",
   "name": "python3"
  },
  "language_info": {
   "codemirror_mode": {
    "name": "ipython",
    "version": 3
   },
   "file_extension": ".py",
   "mimetype": "text/x-python",
   "name": "python",
   "nbconvert_exporter": "python",
   "pygments_lexer": "ipython3",
   "version": "3.11.0"
  }
 },
 "nbformat": 4,
 "nbformat_minor": 2
}
