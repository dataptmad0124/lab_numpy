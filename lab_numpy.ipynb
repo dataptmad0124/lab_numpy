{
 "cells": [
  {
   "cell_type": "markdown",
   "metadata": {},
   "source": [
    "# Introduction to NumPy\n",
    "\n",
    "\n",
    "#### 1. Import NumPy under the name np."
   ]
  },
  {
   "cell_type": "code",
   "execution_count": 1,
   "metadata": {},
   "outputs": [],
   "source": [
    "# your code here\n",
    "\n",
    "import numpy as np\n"
   ]
  },
  {
   "cell_type": "markdown",
   "metadata": {},
   "source": [
    "#### 2. Print your NumPy version."
   ]
  },
  {
   "cell_type": "code",
   "execution_count": 3,
   "metadata": {},
   "outputs": [
    {
     "name": "stdout",
     "output_type": "stream",
     "text": [
      "1.24.3\n"
     ]
    }
   ],
   "source": [
    "# your code here\n",
    "\n",
    "print(np.__version__)"
   ]
  },
  {
   "cell_type": "markdown",
   "metadata": {},
   "source": [
    "#### 3. Generate a 2x3x5 3-dimensional array with random values. Assign the array to variable *a*.\n",
    "**Challenge**: there are at least three easy ways that use numpy to generate random arrays. How many ways can you find?"
   ]
  },
  {
   "cell_type": "code",
   "execution_count": 7,
   "metadata": {},
   "outputs": [
    {
     "name": "stdout",
     "output_type": "stream",
     "text": [
      "[[[0.19831435 0.71969521 0.33645323 0.33692401 0.41296732]\n",
      "  [0.44086392 0.6121816  0.63820265 0.98995664 0.99689764]\n",
      "  [0.44076293 0.2102771  0.93368093 0.73759726 0.13270902]]\n",
      "\n",
      " [[0.89610825 0.81949817 0.37781867 0.54970324 0.08338117]\n",
      "  [0.56189131 0.49528455 0.96460688 0.5248241  0.06225194]\n",
      "  [0.94232936 0.46446918 0.97153517 0.48584656 0.83588511]]]\n"
     ]
    }
   ],
   "source": [
    "# Method 1\n",
    "\n",
    "a = np.random.random((2, 3, 5))\n",
    "\n",
    "print(a)"
   ]
  },
  {
   "cell_type": "code",
   "execution_count": 11,
   "metadata": {},
   "outputs": [
    {
     "name": "stdout",
     "output_type": "stream",
     "text": [
      "[[[85 11 14 43 86]\n",
      "  [55  8 21 40  2]\n",
      "  [35 72  5 97 50]]\n",
      "\n",
      " [[48 28 67 96 19]\n",
      "  [96 75 31 53 11]\n",
      "  [86 25 72 23 92]]]\n"
     ]
    }
   ],
   "source": [
    "# Method 2\n",
    "\n",
    "array2 = np.random.randint(1, 100, size=(2, 3, 5))\n",
    "\n",
    "print(array2)"
   ]
  },
  {
   "cell_type": "code",
   "execution_count": 58,
   "metadata": {},
   "outputs": [
    {
     "name": "stdout",
     "output_type": "stream",
     "text": [
      "[[[0.46126959 0.40019702 0.7585145  0.70771275 0.08789665]\n",
      "  [0.18323881 0.02131218 0.0308184  0.48737373 0.13423032]\n",
      "  [0.01394632 0.62360157 0.96013001 0.77589664 0.09828046]]\n",
      "\n",
      " [[0.3732969  0.66389373 0.563034   0.81220325 0.87310626]\n",
      "  [0.49382749 0.52195298 0.42627851 0.29308631 0.67150829]\n",
      "  [0.09563758 0.96849758 0.13746949 0.84952666 0.71987519]]]\n"
     ]
    }
   ],
   "source": [
    "# Method 3\n",
    "\n",
    "array3 = np.random.rand(2, 3, 5)\n",
    "\n",
    "print(array3)"
   ]
  },
  {
   "cell_type": "markdown",
   "metadata": {},
   "source": [
    "#### 4. Print *a*.\n"
   ]
  },
  {
   "cell_type": "code",
   "execution_count": 12,
   "metadata": {},
   "outputs": [
    {
     "name": "stdout",
     "output_type": "stream",
     "text": [
      "[[[0.19831435 0.71969521 0.33645323 0.33692401 0.41296732]\n",
      "  [0.44086392 0.6121816  0.63820265 0.98995664 0.99689764]\n",
      "  [0.44076293 0.2102771  0.93368093 0.73759726 0.13270902]]\n",
      "\n",
      " [[0.89610825 0.81949817 0.37781867 0.54970324 0.08338117]\n",
      "  [0.56189131 0.49528455 0.96460688 0.5248241  0.06225194]\n",
      "  [0.94232936 0.46446918 0.97153517 0.48584656 0.83588511]]]\n"
     ]
    }
   ],
   "source": [
    "# your code here\n",
    "\n",
    "print(a)"
   ]
  },
  {
   "cell_type": "markdown",
   "metadata": {},
   "source": [
    "#### 5. Create a 5x2x3 3-dimensional array with all values equaling 1. Assign the array to variable *b*."
   ]
  },
  {
   "cell_type": "code",
   "execution_count": 15,
   "metadata": {},
   "outputs": [],
   "source": [
    "# your code here\n",
    "\n",
    "b = np.ones((5, 2, 3))\n"
   ]
  },
  {
   "cell_type": "markdown",
   "metadata": {},
   "source": [
    "#### 6. Print *b*.\n"
   ]
  },
  {
   "cell_type": "code",
   "execution_count": 16,
   "metadata": {},
   "outputs": [
    {
     "name": "stdout",
     "output_type": "stream",
     "text": [
      "[[[1. 1. 1.]\n",
      "  [1. 1. 1.]]\n",
      "\n",
      " [[1. 1. 1.]\n",
      "  [1. 1. 1.]]\n",
      "\n",
      " [[1. 1. 1.]\n",
      "  [1. 1. 1.]]\n",
      "\n",
      " [[1. 1. 1.]\n",
      "  [1. 1. 1.]]\n",
      "\n",
      " [[1. 1. 1.]\n",
      "  [1. 1. 1.]]]\n"
     ]
    }
   ],
   "source": [
    "# your code here\n",
    "\n",
    "print(b)"
   ]
  },
  {
   "cell_type": "markdown",
   "metadata": {},
   "source": [
    "#### 7. Do *a* and *b* have the same size? How do you prove that in Python code?"
   ]
  },
  {
   "cell_type": "code",
   "execution_count": 60,
   "metadata": {},
   "outputs": [
    {
     "name": "stdout",
     "output_type": "stream",
     "text": [
      "[[[1. 1. 1. 1. 1.]\n",
      "  [1. 1. 1. 1. 1.]\n",
      "  [1. 1. 1. 1. 1.]]\n",
      "\n",
      " [[1. 1. 1. 1. 1.]\n",
      "  [1. 1. 1. 1. 1.]\n",
      "  [1. 1. 1. 1. 1.]]]\n",
      "\n",
      "\n",
      "[[[0.19831435 0.71969521 0.33645323 0.33692401 0.41296732]\n",
      "  [0.44086392 0.6121816  0.63820265 0.98995664 0.99689764]\n",
      "  [0.44076293 0.2102771  0.93368093 0.73759726 0.13270902]]\n",
      "\n",
      " [[0.89610825 0.81949817 0.37781867 0.54970324 0.08338117]\n",
      "  [0.56189131 0.49528455 0.96460688 0.5248241  0.06225194]\n",
      "  [0.94232936 0.46446918 0.97153517 0.48584656 0.83588511]]]\n"
     ]
    }
   ],
   "source": [
    "# your code here\n",
    "\n",
    "'''\n",
    "A y B pueden tener el mismo tamaño porque podemos reestructurar las matrices en python. \n",
    "Se puede tener la misma cantidad de valores y diferente estructura.\n",
    "'''\n",
    "\n",
    "a.size == b.size\n",
    "\n",
    "print(nueva_b)\n",
    "\n",
    "print('\\n')\n",
    "\n",
    "print(a)"
   ]
  },
  {
   "cell_type": "markdown",
   "metadata": {},
   "source": [
    "#### 8. Are you able to add *a* and *b*? Why or why not?\n"
   ]
  },
  {
   "cell_type": "code",
   "execution_count": 28,
   "metadata": {},
   "outputs": [
    {
     "data": {
      "text/plain": [
       "\"\\nLos vectores a y b no se pueden sumar porque no tienen el mismo tamaño.\\n'a' tiene estructura (2,3,5) y 'b' tiene estructura (5,2,3)\\n\""
      ]
     },
     "execution_count": 28,
     "metadata": {},
     "output_type": "execute_result"
    }
   ],
   "source": [
    "# your answer here\n",
    "\n",
    "'''\n",
    "Los vectores a y b no se pueden sumar porque no tienen las mismas dimensiones.\n",
    "'a' tiene estructura (2,3,5) y 'b' tiene estructura (5,2,3)\n",
    "'''"
   ]
  },
  {
   "cell_type": "markdown",
   "metadata": {},
   "source": [
    "#### 9. Transpose *b* so that it has the same structure of *a* (i.e. become a 2x3x5 array). Assign the transposed array to variable *c*."
   ]
  },
  {
   "cell_type": "code",
   "execution_count": 61,
   "metadata": {},
   "outputs": [
    {
     "name": "stdout",
     "output_type": "stream",
     "text": [
      "[[[1. 1. 1. 1. 1.]\n",
      "  [1. 1. 1. 1. 1.]\n",
      "  [1. 1. 1. 1. 1.]]\n",
      "\n",
      " [[1. 1. 1. 1. 1.]\n",
      "  [1. 1. 1. 1. 1.]\n",
      "  [1. 1. 1. 1. 1.]]]\n"
     ]
    }
   ],
   "source": [
    "# your code here\n",
    "\n",
    "c = b.transpose(1,2,0)\n",
    "\n",
    "print(c)"
   ]
  },
  {
   "cell_type": "markdown",
   "metadata": {},
   "source": [
    "#### 10. Try to add *a* and *c*. Now it should work. Assign the sum to variable *d*. But why does it work now?"
   ]
  },
  {
   "cell_type": "code",
   "execution_count": 34,
   "metadata": {},
   "outputs": [
    {
     "name": "stdout",
     "output_type": "stream",
     "text": [
      "[[[1.19831435 1.71969521 1.33645323 1.33692401 1.41296732]\n",
      "  [1.44086392 1.6121816  1.63820265 1.98995664 1.99689764]\n",
      "  [1.44076293 1.2102771  1.93368093 1.73759726 1.13270902]]\n",
      "\n",
      " [[1.89610825 1.81949817 1.37781867 1.54970324 1.08338117]\n",
      "  [1.56189131 1.49528455 1.96460688 1.5248241  1.06225194]\n",
      "  [1.94232936 1.46446918 1.97153517 1.48584656 1.83588511]]]\n",
      "\n",
      "\n",
      "47.17291744792977\n"
     ]
    }
   ],
   "source": [
    "# your code/answer here\n",
    "\n",
    "'''\n",
    "Pueden sumarse porque ambas matrices tienen el mismo tamaño y estructura.\n",
    "'''\n",
    "\n",
    "d = a + c\n",
    "\n",
    "print(d)\n",
    "\n",
    "print('\\n')\n",
    "\n",
    "print(d.sum())"
   ]
  },
  {
   "cell_type": "markdown",
   "metadata": {},
   "source": [
    "#### 11. Print *a* and *d*. Notice the difference and relation of the two array in terms of the values? Explain."
   ]
  },
  {
   "cell_type": "code",
   "execution_count": 35,
   "metadata": {},
   "outputs": [
    {
     "name": "stdout",
     "output_type": "stream",
     "text": [
      "[[[0.19831435 0.71969521 0.33645323 0.33692401 0.41296732]\n",
      "  [0.44086392 0.6121816  0.63820265 0.98995664 0.99689764]\n",
      "  [0.44076293 0.2102771  0.93368093 0.73759726 0.13270902]]\n",
      "\n",
      " [[0.89610825 0.81949817 0.37781867 0.54970324 0.08338117]\n",
      "  [0.56189131 0.49528455 0.96460688 0.5248241  0.06225194]\n",
      "  [0.94232936 0.46446918 0.97153517 0.48584656 0.83588511]]]\n",
      "\n",
      "\n",
      "[[[1.19831435 1.71969521 1.33645323 1.33692401 1.41296732]\n",
      "  [1.44086392 1.6121816  1.63820265 1.98995664 1.99689764]\n",
      "  [1.44076293 1.2102771  1.93368093 1.73759726 1.13270902]]\n",
      "\n",
      " [[1.89610825 1.81949817 1.37781867 1.54970324 1.08338117]\n",
      "  [1.56189131 1.49528455 1.96460688 1.5248241  1.06225194]\n",
      "  [1.94232936 1.46446918 1.97153517 1.48584656 1.83588511]]]\n"
     ]
    }
   ],
   "source": [
    "# your code/answer here\n",
    "\n",
    "'''\n",
    "Los valores de 'd' son los valores de a + 1. \n",
    "'''\n",
    "\n",
    "print(a)\n",
    "\n",
    "print('\\n')\n",
    "\n",
    "print(d)"
   ]
  },
  {
   "cell_type": "markdown",
   "metadata": {},
   "source": [
    "#### 12. Multiply *a* and *c*. Assign the result to *e*."
   ]
  },
  {
   "cell_type": "code",
   "execution_count": 36,
   "metadata": {},
   "outputs": [
    {
     "name": "stdout",
     "output_type": "stream",
     "text": [
      "[[[0.19831435 0.71969521 0.33645323 0.33692401 0.41296732]\n",
      "  [0.44086392 0.6121816  0.63820265 0.98995664 0.99689764]\n",
      "  [0.44076293 0.2102771  0.93368093 0.73759726 0.13270902]]\n",
      "\n",
      " [[0.89610825 0.81949817 0.37781867 0.54970324 0.08338117]\n",
      "  [0.56189131 0.49528455 0.96460688 0.5248241  0.06225194]\n",
      "  [0.94232936 0.46446918 0.97153517 0.48584656 0.83588511]]]\n"
     ]
    }
   ],
   "source": [
    "# your code here\n",
    "\n",
    "e = a * c\n",
    "\n",
    "print(e)"
   ]
  },
  {
   "cell_type": "markdown",
   "metadata": {},
   "source": [
    "#### 13. Does *e* equal to *a*? Why or why not?\n"
   ]
  },
  {
   "cell_type": "code",
   "execution_count": 62,
   "metadata": {},
   "outputs": [
    {
     "data": {
      "text/plain": [
       "array([[[ True,  True,  True,  True,  True],\n",
       "        [ True,  True,  True,  True,  True],\n",
       "        [ True,  True,  True,  True,  True]],\n",
       "\n",
       "       [[ True,  True,  True,  True,  True],\n",
       "        [ True,  True,  True,  True,  True],\n",
       "        [ True,  True,  True,  True,  True]]])"
      ]
     },
     "execution_count": 62,
     "metadata": {},
     "output_type": "execute_result"
    }
   ],
   "source": [
    "# your code/answer here\n",
    "\n",
    "'''\n",
    "Si es igual. e = a*c\n",
    "el cubo e y el cubo a tienen los mismos resultados.\n",
    "'''\n",
    "\n",
    "a == e"
   ]
  },
  {
   "cell_type": "markdown",
   "metadata": {},
   "source": [
    "#### 14. Identify the max, min, and mean values in *d*. Assign those values to variables *d_max*, *d_min* and *d_mean*."
   ]
  },
  {
   "cell_type": "code",
   "execution_count": 40,
   "metadata": {},
   "outputs": [
    {
     "name": "stdout",
     "output_type": "stream",
     "text": [
      "El máximo de d es: 1.9968976424614424. El minimo de d es: 1.0622519421279288. La moda de d es: 1.5372636657338195\n"
     ]
    }
   ],
   "source": [
    "# your code here\n",
    "\n",
    "d_max = d.max()\n",
    "\n",
    "d_min = d.min()\n",
    "\n",
    "d_mean = np.median(d)\n",
    "\n",
    "print (f'El máximo de d es: {d_max}. El minimo de d es: {d_min}. La moda de d es: {d_mean}')"
   ]
  },
  {
   "cell_type": "markdown",
   "metadata": {},
   "source": [
    "#### 15. Now we want to label the values in *d*. First create an empty array *f* with the same shape (i.e. 2x3x5) as *d* using `np.empty`.\n"
   ]
  },
  {
   "cell_type": "code",
   "execution_count": 43,
   "metadata": {},
   "outputs": [],
   "source": [
    "# your code here\n",
    "\n",
    "f = np.empty((2, 3, 5))\n",
    "\n",
    "f"
   ]
  },
  {
   "cell_type": "markdown",
   "metadata": {},
   "source": [
    "#### 16. Populate the values in *f*. \n",
    "\n",
    "For each value in *d*, if it's larger than *d_min* but smaller than *d_mean*, assign 25 to the corresponding value in *f*. If a value in *d* is larger than *d_mean* but smaller than *d_max*, assign 75 to the corresponding value in *f*. If a value equals to *d_mean*, assign 50 to the corresponding value in *f*. Assign 0 to the corresponding value(s) in *f* for *d_min* in *d*. Assign 100 to the corresponding value(s) in *f* for *d_max* in *d*. In the end, f should have only the following values: 0, 25, 50, 75, and 100.\n",
    "\n",
    "**Note**: you don't have to use Numpy in this question."
   ]
  },
  {
   "cell_type": "code",
   "execution_count": 51,
   "metadata": {},
   "outputs": [
    {
     "name": "stdout",
     "output_type": "stream",
     "text": [
      "[[[ 25  75  25  25  25]\n",
      "  [ 25  75  75  75 100]\n",
      "  [ 25  25  75  75  25]]\n",
      "\n",
      " [[ 75  75  25  75  25]\n",
      "  [ 75  25  75  25   0]\n",
      "  [ 75  25  75  25  75]]]\n"
     ]
    }
   ],
   "source": [
    "# your code here\n",
    "\n",
    "'''\n",
    "for capa in range(f.shape[o]):  # 2 capas\n",
    "    for fila in range(f.shape[1]):  # 3 filas\n",
    "        for col in range(f.shape[2]):  # 5 columnas\n",
    "            \n",
    "            if d_min == d[capa][fila][col]:  # Si esta entre el minimo ponme 0 en f\n",
    "                \n",
    "                f[capa][fila][col] = 0\n",
    "                \n",
    "            elif\n",
    "            \n",
    "            elif\n",
    "            \n",
    "            \n",
    "'''\n",
    "\n",
    "f = np.where((d > d_min) & (d < d_mean), 25,\n",
    "             np.where((d > d_mean) & (d < d_max), 75,\n",
    "                      np.where(d == d_mean, 50,\n",
    "                               np.where(d == d_min, 0,\n",
    "                                        np.where(d == d_max, 100, 0)))))\n",
    "\n",
    "print(f)"
   ]
  },
  {
   "cell_type": "markdown",
   "metadata": {},
   "source": [
    "#### 17. Print *d* and *f*. Do you have your expected *f*?\n",
    "For instance, if your *d* is:\n",
    "```python\n",
    "[[[1.85836099, 1.67064465, 1.62576044, 1.40243961, 1.88454931],\n",
    "[1.75354326, 1.69403643, 1.36729252, 1.61415071, 1.12104981],\n",
    "[1.72201435, 1.1862918 , 1.87078449, 1.7726778 , 1.88180042]],\n",
    "[[1.44747908, 1.31673383, 1.02000951, 1.52218947, 1.97066381],\n",
    "[1.79129243, 1.74983003, 1.96028037, 1.85166831, 1.65450881],\n",
    "[1.18068344, 1.9587381 , 1.00656599, 1.93402165, 1.73514584]]]\n",
    "```\n",
    "Your *f* should be:\n",
    "```python\n",
    "[[[ 75.,  75.,  75.,  25.,  75.],\n",
    "[ 75.,  75.,  25.,  25.,  25.],\n",
    "[ 75.,  25.,  75.,  75.,  75.]],\n",
    "[[ 25.,  25.,  25.,  25., 100.],\n",
    "[ 75.,  75.,  75.,  75.,  75.],\n",
    "[ 25.,  75.,   0.,  75.,  75.]]]\n",
    "```"
   ]
  },
  {
   "cell_type": "code",
   "execution_count": 52,
   "metadata": {},
   "outputs": [
    {
     "name": "stdout",
     "output_type": "stream",
     "text": [
      "[[[1.19831435 1.71969521 1.33645323 1.33692401 1.41296732]\n",
      "  [1.44086392 1.6121816  1.63820265 1.98995664 1.99689764]\n",
      "  [1.44076293 1.2102771  1.93368093 1.73759726 1.13270902]]\n",
      "\n",
      " [[1.89610825 1.81949817 1.37781867 1.54970324 1.08338117]\n",
      "  [1.56189131 1.49528455 1.96460688 1.5248241  1.06225194]\n",
      "  [1.94232936 1.46446918 1.97153517 1.48584656 1.83588511]]]\n",
      "\n",
      "\n",
      "[[[ 25  75  25  25  25]\n",
      "  [ 25  75  75  75 100]\n",
      "  [ 25  25  75  75  25]]\n",
      "\n",
      " [[ 75  75  25  75  25]\n",
      "  [ 75  25  75  25   0]\n",
      "  [ 75  25  75  25  75]]]\n"
     ]
    }
   ],
   "source": [
    "# your code here\n",
    "\n",
    "print(d)\n",
    "print('\\n')\n",
    "print(f)"
   ]
  },
  {
   "cell_type": "markdown",
   "metadata": {},
   "source": [
    "#### 18. Bonus question: instead of using numbers (i.e. 0, 25, 50, 75, and 100), use string values  (\"A\", \"B\", \"C\", \"D\", and \"E\") to label the array elements. For the example above, the expected result is:\n",
    "\n",
    "```python\n",
    "[[[ 'D',  'D',  'D',  'B',  'D'],\n",
    "[ 'D',  'D',  'B',  'B',  'B'],\n",
    "[ 'D',  'B',  'D',  'D',  'D']],\n",
    "[[ 'B',  'B',  'B',  'B',  'E'],\n",
    "[ 'D',  'D',  'D',  'D',  'D'],\n",
    "[ 'B',  'D',   'A',  'D', 'D']]]\n",
    "```\n",
    "**Note**: you don't have to use Numpy in this question."
   ]
  },
  {
   "cell_type": "code",
   "execution_count": 56,
   "metadata": {},
   "outputs": [
    {
     "name": "stdout",
     "output_type": "stream",
     "text": [
      "[[['B' 'D' 'B' 'B' 'B']\n",
      "  ['B' 'D' 'D' 'D' 'E']\n",
      "  ['B' 'B' 'D' 'D' 'B']]\n",
      "\n",
      " [['D' 'D' 'B' 'D' 'B']\n",
      "  ['D' 'B' 'D' 'B' 'A']\n",
      "  ['D' 'B' 'D' 'B' 'D']]]\n"
     ]
    }
   ],
   "source": [
    "# your code here\n",
    "\n",
    "g = np.where((f == 0) , 'A',\n",
    "             np.where((f == 25), 'B',\n",
    "                      np.where(f == 50, 'C',\n",
    "                               np.where(f == 75, 'D',\n",
    "                                        np.where(d == 100, 0, 'E')))))\n",
    "\n",
    "print(g)"
   ]
  }
 ],
 "metadata": {
  "kernelspec": {
   "display_name": "Python 3 (ipykernel)",
   "language": "python",
   "name": "python3"
  },
  "language_info": {
   "codemirror_mode": {
    "name": "ipython",
    "version": 3
   },
   "file_extension": ".py",
   "mimetype": "text/x-python",
   "name": "python",
   "nbconvert_exporter": "python",
   "pygments_lexer": "ipython3",
   "version": "3.11.5"
  }
 },
 "nbformat": 4,
 "nbformat_minor": 2
}
