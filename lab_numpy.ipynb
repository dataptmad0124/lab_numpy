{
 "cells": [
  {
   "cell_type": "markdown",
   "metadata": {},
   "source": [
    "# Introduction to NumPy\n",
    "\n",
    "\n",
    "#### 1. Import NumPy under the name np."
   ]
  },
  {
   "cell_type": "code",
   "execution_count": 2,
   "metadata": {},
   "outputs": [],
   "source": [
    "# Importar NumPy como np (np es como vamos a nombrar NumPy)\n",
    "\n",
    "import numpy as np"
   ]
  },
  {
   "cell_type": "markdown",
   "metadata": {},
   "source": [
    "#### 2. Print your NumPy version."
   ]
  },
  {
   "cell_type": "code",
   "execution_count": 3,
   "metadata": {},
   "outputs": [
    {
     "name": "stdout",
     "output_type": "stream",
     "text": [
      "1.24.3\n"
     ]
    }
   ],
   "source": [
    "# Printear mi versión de NumPy\n",
    "print(np.__version__)"
   ]
  },
  {
   "cell_type": "markdown",
   "metadata": {},
   "source": [
    "#### 3. Generate a 2x3x5 3-dimensional array with random values. Assign the array to variable *a*.\n",
    "**Challenge**: there are at least three easy ways that use numpy to generate random arrays. How many ways can you find?"
   ]
  },
  {
   "cell_type": "code",
   "execution_count": 12,
   "metadata": {},
   "outputs": [
    {
     "data": {
      "text/plain": [
       "array([[[0.45641588, 0.1180306 , 0.8092422 , 0.5480323 , 0.36410259],\n",
       "        [0.32136215, 0.47390696, 0.12298126, 0.59741572, 0.08756855],\n",
       "        [0.86514556, 0.73705111, 0.51307075, 0.38413824, 0.74738241]],\n",
       "\n",
       "       [[0.13914766, 0.16098711, 0.48123655, 0.63856963, 0.35812443],\n",
       "        [0.87677307, 0.89945657, 0.41665061, 0.60677174, 0.15559353],\n",
       "        [0.24799211, 0.90619313, 0.80791867, 0.81890647, 0.81931788]]])"
      ]
     },
     "execution_count": 12,
     "metadata": {},
     "output_type": "execute_result"
    }
   ],
   "source": [
    "# Method 1: Mostrar \n",
    "\n",
    "a = np.random.random((2,3,5))\n",
    "\n",
    "a"
   ]
  },
  {
   "cell_type": "code",
   "execution_count": 6,
   "metadata": {},
   "outputs": [
    {
     "data": {
      "text/plain": [
       "array([[[0.35179907, 0.24649957, 0.584869  , 0.98622945, 0.84902329],\n",
       "        [0.1739593 , 0.63562866, 0.90222537, 0.67134865, 0.4990768 ],\n",
       "        [0.68282112, 0.87336116, 0.29214292, 0.62389093, 0.67992775]],\n",
       "\n",
       "       [[0.90086347, 0.27427973, 0.61326716, 0.71472822, 0.91395698],\n",
       "        [0.64999036, 0.23907261, 0.56959787, 0.85186327, 0.61860522],\n",
       "        [0.53317919, 0.58701729, 0.5471588 , 0.72440214, 0.41759209]]])"
      ]
     },
     "execution_count": 6,
     "metadata": {},
     "output_type": "execute_result"
    }
   ],
   "source": [
    "# Method 2\n",
    "\n",
    "dim3_2 = np.random.rand(2, 3, 5)\n",
    "dim3_2"
   ]
  },
  {
   "cell_type": "code",
   "execution_count": 11,
   "metadata": {},
   "outputs": [
    {
     "data": {
      "text/plain": [
       "array([[[0.77816106, 0.76671237, 0.42663678, 0.85117702, 0.67794171],\n",
       "        [0.1563999 , 0.15447936, 0.12315593, 0.34094254, 0.69714873],\n",
       "        [0.11776975, 0.62232498, 0.56112716, 0.52353835, 0.23896444]],\n",
       "\n",
       "       [[0.49407232, 0.09806403, 0.2592525 , 0.94367705, 0.38670947],\n",
       "        [0.61900608, 0.7584664 , 0.79883147, 0.97626545, 0.20860154],\n",
       "        [0.42094087, 0.19368223, 0.03925736, 0.5965593 , 0.17996877]]])"
      ]
     },
     "execution_count": 11,
     "metadata": {},
     "output_type": "execute_result"
    }
   ],
   "source": [
    "# Method 3\n",
    "dim3_3 = np.random.random_sample((2, 3, 5))\n",
    "dim3_3"
   ]
  },
  {
   "cell_type": "markdown",
   "metadata": {},
   "source": [
    "#### 4. Print *a*.\n"
   ]
  },
  {
   "cell_type": "code",
   "execution_count": 13,
   "metadata": {},
   "outputs": [
    {
     "data": {
      "text/plain": [
       "array([[[0.45641588, 0.1180306 , 0.8092422 , 0.5480323 , 0.36410259],\n",
       "        [0.32136215, 0.47390696, 0.12298126, 0.59741572, 0.08756855],\n",
       "        [0.86514556, 0.73705111, 0.51307075, 0.38413824, 0.74738241]],\n",
       "\n",
       "       [[0.13914766, 0.16098711, 0.48123655, 0.63856963, 0.35812443],\n",
       "        [0.87677307, 0.89945657, 0.41665061, 0.60677174, 0.15559353],\n",
       "        [0.24799211, 0.90619313, 0.80791867, 0.81890647, 0.81931788]]])"
      ]
     },
     "execution_count": 13,
     "metadata": {},
     "output_type": "execute_result"
    }
   ],
   "source": [
    "a"
   ]
  },
  {
   "cell_type": "markdown",
   "metadata": {},
   "source": [
    "#### 5. Create a 5x2x3 3-dimensional array with all values equaling 1. Assign the array to variable *b*."
   ]
  },
  {
   "cell_type": "code",
   "execution_count": 15,
   "metadata": {},
   "outputs": [],
   "source": [
    "dim = [5, 2, 3]\n",
    "b = np.ones(dim)"
   ]
  },
  {
   "cell_type": "markdown",
   "metadata": {},
   "source": [
    "#### 6. Print *b*.\n"
   ]
  },
  {
   "cell_type": "code",
   "execution_count": 16,
   "metadata": {},
   "outputs": [
    {
     "data": {
      "text/plain": [
       "array([[[1., 1., 1.],\n",
       "        [1., 1., 1.]],\n",
       "\n",
       "       [[1., 1., 1.],\n",
       "        [1., 1., 1.]],\n",
       "\n",
       "       [[1., 1., 1.],\n",
       "        [1., 1., 1.]],\n",
       "\n",
       "       [[1., 1., 1.],\n",
       "        [1., 1., 1.]],\n",
       "\n",
       "       [[1., 1., 1.],\n",
       "        [1., 1., 1.]]])"
      ]
     },
     "execution_count": 16,
     "metadata": {},
     "output_type": "execute_result"
    }
   ],
   "source": [
    "b"
   ]
  },
  {
   "cell_type": "markdown",
   "metadata": {},
   "source": [
    "#### 7. Do *a* and *b* have the same size? How do you prove that in Python code?"
   ]
  },
  {
   "cell_type": "code",
   "execution_count": 17,
   "metadata": {},
   "outputs": [
    {
     "data": {
      "text/plain": [
       "True"
      ]
     },
     "execution_count": 17,
     "metadata": {},
     "output_type": "execute_result"
    }
   ],
   "source": [
    "a.size == b.size"
   ]
  },
  {
   "cell_type": "code",
   "execution_count": 18,
   "metadata": {},
   "outputs": [
    {
     "data": {
      "text/plain": [
       "30"
      ]
     },
     "execution_count": 18,
     "metadata": {},
     "output_type": "execute_result"
    }
   ],
   "source": [
    "a.size"
   ]
  },
  {
   "cell_type": "code",
   "execution_count": 19,
   "metadata": {},
   "outputs": [
    {
     "data": {
      "text/plain": [
       "30"
      ]
     },
     "execution_count": 19,
     "metadata": {},
     "output_type": "execute_result"
    }
   ],
   "source": [
    "b.size"
   ]
  },
  {
   "cell_type": "markdown",
   "metadata": {},
   "source": [
    "#### 8. Are you able to add *a* and *b*? Why or why not?\n"
   ]
  },
  {
   "cell_type": "code",
   "execution_count": 20,
   "metadata": {},
   "outputs": [
    {
     "ename": "ValueError",
     "evalue": "operands could not be broadcast together with shapes (2,3,5) (5,2,3) ",
     "output_type": "error",
     "traceback": [
      "\u001b[0;31m---------------------------------------------------------------------------\u001b[0m",
      "\u001b[0;31mValueError\u001b[0m                                Traceback (most recent call last)",
      "Cell \u001b[0;32mIn[20], line 1\u001b[0m\n\u001b[0;32m----> 1\u001b[0m a\u001b[38;5;241m+\u001b[39mb\n",
      "\u001b[0;31mValueError\u001b[0m: operands could not be broadcast together with shapes (2,3,5) (5,2,3) "
     ]
    }
   ],
   "source": [
    "a+b # No se puede sumar porque el tamaño de la matriz es diferente"
   ]
  },
  {
   "cell_type": "markdown",
   "metadata": {},
   "source": [
    "#### 9. Transpose *b* so that it has the same structure of *a* (i.e. become a 2x3x5 array). Assign the transposed array to variable *c*."
   ]
  },
  {
   "cell_type": "code",
   "execution_count": 27,
   "metadata": {
    "scrolled": true
   },
   "outputs": [
    {
     "data": {
      "text/plain": [
       "array([[[1., 1., 1., 1., 1.],\n",
       "        [1., 1., 1., 1., 1.],\n",
       "        [1., 1., 1., 1., 1.]],\n",
       "\n",
       "       [[1., 1., 1., 1., 1.],\n",
       "        [1., 1., 1., 1., 1.],\n",
       "        [1., 1., 1., 1., 1.]]])"
      ]
     },
     "execution_count": 27,
     "metadata": {},
     "output_type": "execute_result"
    }
   ],
   "source": [
    "c = b.transpose(1, 2, 0)\n",
    "c"
   ]
  },
  {
   "cell_type": "code",
   "execution_count": 28,
   "metadata": {},
   "outputs": [
    {
     "data": {
      "text/plain": [
       "(2, 3, 5)"
      ]
     },
     "execution_count": 28,
     "metadata": {},
     "output_type": "execute_result"
    }
   ],
   "source": [
    "c.shape"
   ]
  },
  {
   "cell_type": "markdown",
   "metadata": {},
   "source": [
    "#### 10. Try to add *a* and *c*. Now it should work. Assign the sum to variable *d*. But why does it work now?"
   ]
  },
  {
   "cell_type": "code",
   "execution_count": 30,
   "metadata": {},
   "outputs": [
    {
     "data": {
      "text/plain": [
       "array([[[1.45641588, 1.1180306 , 1.8092422 , 1.5480323 , 1.36410259],\n",
       "        [1.32136215, 1.47390696, 1.12298126, 1.59741572, 1.08756855],\n",
       "        [1.86514556, 1.73705111, 1.51307075, 1.38413824, 1.74738241]],\n",
       "\n",
       "       [[1.13914766, 1.16098711, 1.48123655, 1.63856963, 1.35812443],\n",
       "        [1.87677307, 1.89945657, 1.41665061, 1.60677174, 1.15559353],\n",
       "        [1.24799211, 1.90619313, 1.80791867, 1.81890647, 1.81931788]]])"
      ]
     },
     "execution_count": 30,
     "metadata": {},
     "output_type": "execute_result"
    }
   ],
   "source": [
    "d = a+c\n",
    "d"
   ]
  },
  {
   "cell_type": "markdown",
   "metadata": {},
   "source": [
    "#### 11. Print *a* and *d*. Notice the difference and relation of the two array in terms of the values? Explain."
   ]
  },
  {
   "cell_type": "code",
   "execution_count": 36,
   "metadata": {},
   "outputs": [
    {
     "name": "stdout",
     "output_type": "stream",
     "text": [
      "MATRIZ A\n",
      "[[[0.45641588 0.1180306  0.8092422  0.5480323  0.36410259]\n",
      "  [0.32136215 0.47390696 0.12298126 0.59741572 0.08756855]\n",
      "  [0.86514556 0.73705111 0.51307075 0.38413824 0.74738241]]\n",
      "\n",
      " [[0.13914766 0.16098711 0.48123655 0.63856963 0.35812443]\n",
      "  [0.87677307 0.89945657 0.41665061 0.60677174 0.15559353]\n",
      "  [0.24799211 0.90619313 0.80791867 0.81890647 0.81931788]]]\n",
      "\n",
      "\n",
      "\n",
      "MATRIZ D\n",
      "[[[1.45641588 1.1180306  1.8092422  1.5480323  1.36410259]\n",
      "  [1.32136215 1.47390696 1.12298126 1.59741572 1.08756855]\n",
      "  [1.86514556 1.73705111 1.51307075 1.38413824 1.74738241]]\n",
      "\n",
      " [[1.13914766 1.16098711 1.48123655 1.63856963 1.35812443]\n",
      "  [1.87677307 1.89945657 1.41665061 1.60677174 1.15559353]\n",
      "  [1.24799211 1.90619313 1.80791867 1.81890647 1.81931788]]]\n"
     ]
    }
   ],
   "source": [
    "print('MATRIZ A')\n",
    "print(a)\n",
    "print()\n",
    "print()\n",
    "print()\n",
    "print('MATRIZ D') \n",
    "print(d)"
   ]
  },
  {
   "cell_type": "markdown",
   "metadata": {},
   "source": [
    "#### 12. Multiply *a* and *c*. Assign the result to *e*."
   ]
  },
  {
   "cell_type": "code",
   "execution_count": 37,
   "metadata": {},
   "outputs": [
    {
     "data": {
      "text/plain": [
       "array([[[0.45641588, 0.1180306 , 0.8092422 , 0.5480323 , 0.36410259],\n",
       "        [0.32136215, 0.47390696, 0.12298126, 0.59741572, 0.08756855],\n",
       "        [0.86514556, 0.73705111, 0.51307075, 0.38413824, 0.74738241]],\n",
       "\n",
       "       [[0.13914766, 0.16098711, 0.48123655, 0.63856963, 0.35812443],\n",
       "        [0.87677307, 0.89945657, 0.41665061, 0.60677174, 0.15559353],\n",
       "        [0.24799211, 0.90619313, 0.80791867, 0.81890647, 0.81931788]]])"
      ]
     },
     "execution_count": 37,
     "metadata": {},
     "output_type": "execute_result"
    }
   ],
   "source": [
    "e = a*c\n",
    "e"
   ]
  },
  {
   "cell_type": "markdown",
   "metadata": {},
   "source": [
    "#### 13. Does *e* equal to *a*? Why or why not?\n"
   ]
  },
  {
   "cell_type": "code",
   "execution_count": 38,
   "metadata": {},
   "outputs": [
    {
     "data": {
      "text/plain": [
       "array([[[ True,  True,  True,  True,  True],\n",
       "        [ True,  True,  True,  True,  True],\n",
       "        [ True,  True,  True,  True,  True]],\n",
       "\n",
       "       [[ True,  True,  True,  True,  True],\n",
       "        [ True,  True,  True,  True,  True],\n",
       "        [ True,  True,  True,  True,  True]]])"
      ]
     },
     "execution_count": 38,
     "metadata": {},
     "output_type": "execute_result"
    }
   ],
   "source": [
    "e==a"
   ]
  },
  {
   "cell_type": "markdown",
   "metadata": {},
   "source": [
    "#### 14. Identify the max, min, and mean values in *d*. Assign those values to variables *d_max*, *d_min* and *d_mean*."
   ]
  },
  {
   "cell_type": "code",
   "execution_count": 44,
   "metadata": {},
   "outputs": [
    {
     "name": "stdout",
     "output_type": "stream",
     "text": [
      "El valor máximo es 1.9061931335178182\n",
      "\n",
      "El valor máximo es 1.0875685541231372\n",
      "\n",
      "El valor medio es 1.5159828481395048\n"
     ]
    }
   ],
   "source": [
    "d_max = d.max()\n",
    "print(f'El valor máximo es {d_max}')\n",
    "print()\n",
    "d_min = d.min()\n",
    "print(f'El valor máximo es {d_min}')\n",
    "print()\n",
    "d_mean = d.mean()\n",
    "print(f'El valor medio es {d_mean}')"
   ]
  },
  {
   "cell_type": "markdown",
   "metadata": {},
   "source": [
    "#### 15. Now we want to label the values in *d*. First create an empty array *f* with the same shape (i.e. 2x3x5) as *d* using `np.empty`.\n"
   ]
  },
  {
   "cell_type": "code",
   "execution_count": 45,
   "metadata": {},
   "outputs": [
    {
     "data": {
      "text/plain": [
       "array([[[0.45641588, 0.1180306 , 0.8092422 , 0.5480323 , 0.36410259],\n",
       "        [0.32136215, 0.47390696, 0.12298126, 0.59741572, 0.08756855],\n",
       "        [0.86514556, 0.73705111, 0.51307075, 0.38413824, 0.74738241]],\n",
       "\n",
       "       [[0.13914766, 0.16098711, 0.48123655, 0.63856963, 0.35812443],\n",
       "        [0.87677307, 0.89945657, 0.41665061, 0.60677174, 0.15559353],\n",
       "        [0.24799211, 0.90619313, 0.80791867, 0.81890647, 0.81931788]]])"
      ]
     },
     "execution_count": 45,
     "metadata": {},
     "output_type": "execute_result"
    }
   ],
   "source": [
    "f = np.empty((2, 3, 5))\n",
    "f"
   ]
  },
  {
   "cell_type": "markdown",
   "metadata": {},
   "source": [
    "#### 16. Populate the values in *f*. \n",
    "\n",
    "For each value in *d*, if it's larger than *d_min* but smaller than *d_mean*, assign 25 to the corresponding value in *f*. If a value in *d* is larger than *d_mean* but smaller than *d_max*, assign 75 to the corresponding value in *f*. If a value equals to *d_mean*, assign 50 to the corresponding value in *f*. Assign 0 to the corresponding value(s) in *f* for *d_min* in *d*. Assign 100 to the corresponding value(s) in *f* for *d_max* in *d*. In the end, f should have only the following values: 0, 25, 50, 75, and 100.\n",
    "\n",
    "**Note**: you don't have to use Numpy in this question."
   ]
  },
  {
   "cell_type": "code",
   "execution_count": 48,
   "metadata": {},
   "outputs": [
    {
     "data": {
      "text/plain": [
       "(2, 3, 5)"
      ]
     },
     "execution_count": 48,
     "metadata": {},
     "output_type": "execute_result"
    }
   ],
   "source": [
    "d.shape"
   ]
  },
  {
   "cell_type": "code",
   "execution_count": 49,
   "metadata": {
    "scrolled": true
   },
   "outputs": [
    {
     "data": {
      "text/plain": [
       "(2, 3, 5)"
      ]
     },
     "execution_count": 49,
     "metadata": {},
     "output_type": "execute_result"
    }
   ],
   "source": [
    "f.shape"
   ]
  },
  {
   "cell_type": "code",
   "execution_count": 50,
   "metadata": {},
   "outputs": [],
   "source": [
    "for capa in range(f.shape[0]):   # 2 capas\n",
    "    \n",
    "    for fila in range(f.shape[1]):   # 3 filas\n",
    "        \n",
    "        for col in range(f.shape[2]):  # 5 columnas\n",
    "            \n",
    "            \n",
    "            if d_min == d[capa][fila][col]: # si es el minimo ponme cero en f\n",
    "                \n",
    "                f[capa][fila][col] = 0\n",
    "                \n",
    "            \n",
    "            elif d_min < d[capa][fila][col] < d_mean: # si esta entre el minimo y la media ponme 25\n",
    "                \n",
    "                f[capa][fila][col] = 25\n",
    "                \n",
    "                \n",
    "            elif d_mean == d[capa][fila][col]: # si es la media ponme 50 en f\n",
    "                \n",
    "                f[capa][fila][col] = 50\n",
    "                \n",
    "                \n",
    "            elif d_mean < d[capa][fila][col] < d_max: # si esta entre la media y el maximo ponme 75\n",
    "                \n",
    "                f[capa][fila][col] = 75\n",
    "                \n",
    "                \n",
    "            elif d_max == d[capa][fila][col]: # si es el maximo ponme 100 en f\n",
    "                \n",
    "                f[capa][fila][col] = 100\n",
    "        "
   ]
  },
  {
   "cell_type": "markdown",
   "metadata": {},
   "source": [
    "#### 17. Print *d* and *f*. Do you have your expected *f*?\n",
    "For instance, if your *d* is:\n",
    "```python\n",
    "[[[1.85836099, 1.67064465, 1.62576044, 1.40243961, 1.88454931],\n",
    "[1.75354326, 1.69403643, 1.36729252, 1.61415071, 1.12104981],\n",
    "[1.72201435, 1.1862918 , 1.87078449, 1.7726778 , 1.88180042]],\n",
    "[[1.44747908, 1.31673383, 1.02000951, 1.52218947, 1.97066381],\n",
    "[1.79129243, 1.74983003, 1.96028037, 1.85166831, 1.65450881],\n",
    "[1.18068344, 1.9587381 , 1.00656599, 1.93402165, 1.73514584]]]\n",
    "```\n",
    "Your *f* should be:\n",
    "```python\n",
    "[[[ 75.,  75.,  75.,  25.,  75.],\n",
    "[ 75.,  75.,  25.,  25.,  25.],\n",
    "[ 75.,  25.,  75.,  75.,  75.]],\n",
    "[[ 25.,  25.,  25.,  25., 100.],\n",
    "[ 75.,  75.,  75.,  75.,  75.],\n",
    "[ 25.,  75.,   0.,  75.,  75.]]]\n",
    "```"
   ]
  },
  {
   "cell_type": "code",
   "execution_count": 52,
   "metadata": {},
   "outputs": [
    {
     "data": {
      "text/plain": [
       "array([[[ 25.,  25.,  75.,  75.,  25.],\n",
       "        [ 25.,  25.,  25.,  75.,   0.],\n",
       "        [ 75.,  75.,  25.,  25.,  75.]],\n",
       "\n",
       "       [[ 25.,  25.,  25.,  75.,  25.],\n",
       "        [ 75.,  75.,  25.,  75.,  25.],\n",
       "        [ 25., 100.,  75.,  75.,  75.]]])"
      ]
     },
     "execution_count": 52,
     "metadata": {},
     "output_type": "execute_result"
    }
   ],
   "source": [
    "f"
   ]
  },
  {
   "cell_type": "markdown",
   "metadata": {},
   "source": [
    "#### 18. Bonus question: instead of using numbers (i.e. 0, 25, 50, 75, and 100), use string values  (\"A\", \"B\", \"C\", \"D\", and \"E\") to label the array elements. For the example above, the expected result is:\n",
    "\n",
    "```python\n",
    "[[[ 'D',  'D',  'D',  'B',  'D'],\n",
    "[ 'D',  'D',  'B',  'B',  'B'],\n",
    "[ 'D',  'B',  'D',  'D',  'D']],\n",
    "[[ 'B',  'B',  'B',  'B',  'E'],\n",
    "[ 'D',  'D',  'D',  'D',  'D'],\n",
    "[ 'B',  'D',   'A',  'D', 'D']]]\n",
    "```\n",
    "**Note**: you don't have to use Numpy in this question."
   ]
  },
  {
   "cell_type": "code",
   "execution_count": 53,
   "metadata": {},
   "outputs": [],
   "source": [
    "f = f.astype('str')   # a formato string\n",
    "\n",
    "\n",
    "for capa in range(f.shape[0]):   # 2 capas\n",
    "    \n",
    "    for fila in range(f.shape[1]):   # 3 filas\n",
    "        \n",
    "        for col in range(f.shape[2]):  # 5 columnas\n",
    "            \n",
    "            \n",
    "            if d_min == d[capa][fila][col]: # si es el minimo ponme A en f\n",
    "                \n",
    "                f[capa][fila][col] = 'A'\n",
    "                \n",
    "            \n",
    "            elif d_min < d[capa][fila][col] < d_mean: # si esta entre el minimo y la media ponme B\n",
    "                \n",
    "                f[capa][fila][col] = 'B'\n",
    "                \n",
    "                \n",
    "            elif d_mean == d[capa][fila][col]: # si es la media ponme C en f\n",
    "                \n",
    "                f[capa][fila][col] = 'C'\n",
    "                \n",
    "                \n",
    "            elif d_mean < d[capa][fila][col] < d_max: # si esta entre la media y el maximo ponme D\n",
    "                \n",
    "                f[capa][fila][col] = 'D'\n",
    "                \n",
    "                \n",
    "            elif d_max == d[capa][fila][col]: # si es el maximo ponme E en f\n",
    "                \n",
    "                f[capa][fila][col] = 'E'"
   ]
  },
  {
   "cell_type": "code",
   "execution_count": 54,
   "metadata": {},
   "outputs": [
    {
     "data": {
      "text/plain": [
       "array([[['B', 'B', 'D', 'D', 'B'],\n",
       "        ['B', 'B', 'B', 'D', 'A'],\n",
       "        ['D', 'D', 'B', 'B', 'D']],\n",
       "\n",
       "       [['B', 'B', 'B', 'D', 'B'],\n",
       "        ['D', 'D', 'B', 'D', 'B'],\n",
       "        ['B', 'E', 'D', 'D', 'D']]], dtype='<U32')"
      ]
     },
     "execution_count": 54,
     "metadata": {},
     "output_type": "execute_result"
    }
   ],
   "source": [
    "f"
   ]
  },
  {
   "cell_type": "code",
   "execution_count": null,
   "metadata": {},
   "outputs": [],
   "source": []
  }
 ],
 "metadata": {
  "kernelspec": {
   "display_name": "Python 3 (ipykernel)",
   "language": "python",
   "name": "python3"
  },
  "language_info": {
   "codemirror_mode": {
    "name": "ipython",
    "version": 3
   },
   "file_extension": ".py",
   "mimetype": "text/x-python",
   "name": "python",
   "nbconvert_exporter": "python",
   "pygments_lexer": "ipython3",
   "version": "3.11.5"
  }
 },
 "nbformat": 4,
 "nbformat_minor": 2
}
