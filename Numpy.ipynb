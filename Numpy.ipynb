{
 "cells": [
  {
   "cell_type": "markdown",
   "metadata": {},
   "source": [
    "# Introduction to NumPy\n",
    "\n",
    "\n",
    "#### 1. Import NumPy under the name np."
   ]
  },
  {
   "cell_type": "code",
   "execution_count": 2,
   "metadata": {},
   "outputs": [],
   "source": [
    "# your code here\n",
    "import numpy as np\n",
    "import random"
   ]
  },
  {
   "cell_type": "markdown",
   "metadata": {},
   "source": [
    "#### 2. Print your NumPy version."
   ]
  },
  {
   "cell_type": "code",
   "execution_count": 3,
   "metadata": {},
   "outputs": [
    {
     "name": "stdout",
     "output_type": "stream",
     "text": [
      "1.24.3\n"
     ]
    }
   ],
   "source": [
    "# your code here\n",
    "\n",
    "print(np. __version__)"
   ]
  },
  {
   "cell_type": "markdown",
   "metadata": {},
   "source": [
    "#### 3. Generate a 2x3x5 3-dimensional array with random values. Assign the array to variable *a*.\n",
    "**Challenge**: there are at least three easy ways that use numpy to generate random arrays. How many ways can you find?"
   ]
  },
  {
   "cell_type": "code",
   "execution_count": 4,
   "metadata": {},
   "outputs": [
    {
     "data": {
      "text/plain": [
       "array([[[0.75739342, 0.26418047, 0.99671104, 0.21117798, 0.69922143],\n",
       "        [0.42300584, 0.05242275, 0.18377073, 0.36951406, 0.65078977],\n",
       "        [0.46904956, 0.0265511 , 0.64089867, 0.00855946, 0.60375691]],\n",
       "\n",
       "       [[0.17881325, 0.95824525, 0.49756177, 0.56489729, 0.05353046],\n",
       "        [0.84102748, 0.43272148, 0.39062201, 0.02109715, 0.98815687],\n",
       "        [0.72917875, 0.81946212, 0.23606386, 0.69313858, 0.95840508]]])"
      ]
     },
     "execution_count": 4,
     "metadata": {},
     "output_type": "execute_result"
    }
   ],
   "source": [
    "# Method 1\n",
    "\n",
    "a = np.random.random((2,3,5))\n",
    "a"
   ]
  },
  {
   "cell_type": "code",
   "execution_count": 7,
   "metadata": {},
   "outputs": [
    {
     "data": {
      "text/plain": [
       "array([[[0.64839578, 0.820679  , 0.62817598, 0.17471747, 0.73785311],\n",
       "        [0.48718207, 0.31776186, 0.02281954, 0.77307454, 0.65072927],\n",
       "        [0.58397373, 0.37274632, 0.09463181, 0.06674595, 0.13039797]],\n",
       "\n",
       "       [[0.98735773, 0.87834638, 0.26321774, 0.73267062, 0.43102513],\n",
       "        [0.68462994, 0.5052911 , 0.79427351, 0.07407954, 0.88708993],\n",
       "        [0.03539385, 0.0026381 , 0.26197845, 0.54201966, 0.1519543 ]]])"
      ]
     },
     "execution_count": 7,
     "metadata": {},
     "output_type": "execute_result"
    }
   ],
   "source": [
    "# Method 2\n",
    "a = np.empty([2,3,5])\n",
    "a"
   ]
  },
  {
   "cell_type": "code",
   "execution_count": 6,
   "metadata": {},
   "outputs": [
    {
     "data": {
      "text/plain": [
       "array([[[0.64839578, 0.820679  , 0.62817598, 0.17471747, 0.73785311],\n",
       "        [0.48718207, 0.31776186, 0.02281954, 0.77307454, 0.65072927],\n",
       "        [0.58397373, 0.37274632, 0.09463181, 0.06674595, 0.13039797]],\n",
       "\n",
       "       [[0.98735773, 0.87834638, 0.26321774, 0.73267062, 0.43102513],\n",
       "        [0.68462994, 0.5052911 , 0.79427351, 0.07407954, 0.88708993],\n",
       "        [0.03539385, 0.0026381 , 0.26197845, 0.54201966, 0.1519543 ]]])"
      ]
     },
     "execution_count": 6,
     "metadata": {},
     "output_type": "execute_result"
    }
   ],
   "source": [
    "# Method 3\n",
    "\n",
    "a = np.random.rand(2,3,5)\n",
    "a"
   ]
  },
  {
   "cell_type": "markdown",
   "metadata": {},
   "source": [
    "#### 4. Print *a*.\n"
   ]
  },
  {
   "cell_type": "code",
   "execution_count": 47,
   "metadata": {},
   "outputs": [
    {
     "name": "stdout",
     "output_type": "stream",
     "text": [
      "[[[0.25257422 0.40699415 0.65792402 0.88551744 0.04734188]\n",
      "  [0.07145876 0.08724301 0.0647137  0.19005353 0.61636487]\n",
      "  [0.91537744 0.32441123 0.77884074 0.8988341  0.97654085]]\n",
      "\n",
      " [[0.40076652 0.2488312  0.40386845 0.82322351 0.65130558]\n",
      "  [0.07711254 0.57371374 0.78716392 0.17622022 0.443459  ]\n",
      "  [0.97434117 0.0561761  0.03070605 0.82994607 0.76457672]]]\n"
     ]
    }
   ],
   "source": [
    "# your code here\n",
    "print(a)"
   ]
  },
  {
   "cell_type": "markdown",
   "metadata": {},
   "source": [
    "#### 5. Create a 5x2x3 3-dimensional array with all values equaling 1. Assign the array to variable *b*."
   ]
  },
  {
   "cell_type": "code",
   "execution_count": 56,
   "metadata": {},
   "outputs": [
    {
     "data": {
      "text/plain": [
       "array([[[1., 1., 1.],\n",
       "        [1., 1., 1.]],\n",
       "\n",
       "       [[1., 1., 1.],\n",
       "        [1., 1., 1.]],\n",
       "\n",
       "       [[1., 1., 1.],\n",
       "        [1., 1., 1.]],\n",
       "\n",
       "       [[1., 1., 1.],\n",
       "        [1., 1., 1.]],\n",
       "\n",
       "       [[1., 1., 1.],\n",
       "        [1., 1., 1.]]])"
      ]
     },
     "execution_count": 56,
     "metadata": {},
     "output_type": "execute_result"
    }
   ],
   "source": [
    "# your code here\n",
    "b = np.ones((5,2,3))\n",
    "b"
   ]
  },
  {
   "cell_type": "markdown",
   "metadata": {},
   "source": [
    "#### 6. Print *b*.\n"
   ]
  },
  {
   "cell_type": "code",
   "execution_count": 57,
   "metadata": {},
   "outputs": [
    {
     "name": "stdout",
     "output_type": "stream",
     "text": [
      "[[[1. 1. 1.]\n",
      "  [1. 1. 1.]]\n",
      "\n",
      " [[1. 1. 1.]\n",
      "  [1. 1. 1.]]\n",
      "\n",
      " [[1. 1. 1.]\n",
      "  [1. 1. 1.]]\n",
      "\n",
      " [[1. 1. 1.]\n",
      "  [1. 1. 1.]]\n",
      "\n",
      " [[1. 1. 1.]\n",
      "  [1. 1. 1.]]]\n"
     ]
    }
   ],
   "source": [
    "# your code here\n",
    "print(b)"
   ]
  },
  {
   "cell_type": "markdown",
   "metadata": {},
   "source": [
    "#### 7. Do *a* and *b* have the same size? How do you prove that in Python code?"
   ]
  },
  {
   "cell_type": "code",
   "execution_count": 61,
   "metadata": {},
   "outputs": [
    {
     "data": {
      "text/plain": [
       "30"
      ]
     },
     "execution_count": 61,
     "metadata": {},
     "output_type": "execute_result"
    }
   ],
   "source": [
    "# your code here\n",
    "np.size(a)"
   ]
  },
  {
   "cell_type": "code",
   "execution_count": 62,
   "metadata": {},
   "outputs": [
    {
     "data": {
      "text/plain": [
       "30"
      ]
     },
     "execution_count": 62,
     "metadata": {},
     "output_type": "execute_result"
    }
   ],
   "source": [
    "np.size(b)\n",
    "\n",
    "# yes, they are the same size"
   ]
  },
  {
   "cell_type": "markdown",
   "metadata": {},
   "source": [
    "#### 8. Are you able to add *a* and *b*? Why or why not?\n"
   ]
  },
  {
   "cell_type": "code",
   "execution_count": 8,
   "metadata": {},
   "outputs": [
    {
     "ename": "NameError",
     "evalue": "name 'b' is not defined",
     "output_type": "error",
     "traceback": [
      "\u001b[1;31m---------------------------------------------------------------------------\u001b[0m",
      "\u001b[1;31mNameError\u001b[0m                                 Traceback (most recent call last)",
      "Cell \u001b[1;32mIn[8], line 3\u001b[0m\n\u001b[0;32m      1\u001b[0m \u001b[38;5;66;03m# your answer here\u001b[39;00m\n\u001b[1;32m----> 3\u001b[0m np\u001b[38;5;241m.\u001b[39madd(a, b)\n",
      "\u001b[1;31mNameError\u001b[0m: name 'b' is not defined"
     ]
    }
   ],
   "source": [
    "# your answer here\n",
    "\n",
    "np.add(a, b)\n",
    "\n",
    "# You can´t and it gives you this error back \"ValueError: operands could not be broadcast together with shapes (2,3,5) (5,2,3)\" because the shapes doesn´t match"
   ]
  },
  {
   "cell_type": "markdown",
   "metadata": {},
   "source": [
    "#### 9. Transpose *b* so that it has the same structure of *a* (i.e. become a 2x3x5 array). Assign the transposed array to variable *c*."
   ]
  },
  {
   "cell_type": "code",
   "execution_count": 79,
   "metadata": {},
   "outputs": [
    {
     "data": {
      "text/plain": [
       "array([[[1., 1., 1., 1., 1.],\n",
       "        [1., 1., 1., 1., 1.],\n",
       "        [1., 1., 1., 1., 1.]],\n",
       "\n",
       "       [[1., 1., 1., 1., 1.],\n",
       "        [1., 1., 1., 1., 1.],\n",
       "        [1., 1., 1., 1., 1.]]])"
      ]
     },
     "execution_count": 79,
     "metadata": {},
     "output_type": "execute_result"
    }
   ],
   "source": [
    "# your code here\n",
    "\n",
    "c = np.transpose(b)\n",
    "c = np.reshape(c, (2, 3,5), order='F')\n",
    "c"
   ]
  },
  {
   "cell_type": "code",
   "execution_count": null,
   "metadata": {},
   "outputs": [],
   "source": [
    "c = b.transpose(3,2,0)"
   ]
  },
  {
   "cell_type": "markdown",
   "metadata": {},
   "source": [
    "#### 10. Try to add *a* and *c*. Now it should work. Assign the sum to variable *d*. But why does it work now?"
   ]
  },
  {
   "cell_type": "code",
   "execution_count": 78,
   "metadata": {},
   "outputs": [
    {
     "data": {
      "text/plain": [
       "array([[[1.25257422, 1.40699415, 1.65792402, 1.88551744, 1.04734188],\n",
       "        [1.07145876, 1.08724301, 1.0647137 , 1.19005353, 1.61636487],\n",
       "        [1.91537744, 1.32441123, 1.77884074, 1.8988341 , 1.97654085]],\n",
       "\n",
       "       [[1.40076652, 1.2488312 , 1.40386845, 1.82322351, 1.65130558],\n",
       "        [1.07711254, 1.57371374, 1.78716392, 1.17622022, 1.443459  ],\n",
       "        [1.97434117, 1.0561761 , 1.03070605, 1.82994607, 1.76457672]]])"
      ]
     },
     "execution_count": 78,
     "metadata": {},
     "output_type": "execute_result"
    }
   ],
   "source": [
    "# your code/answer here\n",
    "d = np.add(a,c)\n",
    "d\n",
    "\n",
    "#It works because they are the same size"
   ]
  },
  {
   "cell_type": "markdown",
   "metadata": {},
   "source": [
    "#### 11. Print *a* and *d*. Notice the difference and relation of the two array in terms of the values? Explain."
   ]
  },
  {
   "cell_type": "code",
   "execution_count": 80,
   "metadata": {},
   "outputs": [
    {
     "name": "stdout",
     "output_type": "stream",
     "text": [
      "a:  [[[0.25257422 0.40699415 0.65792402 0.88551744 0.04734188]\n",
      "  [0.07145876 0.08724301 0.0647137  0.19005353 0.61636487]\n",
      "  [0.91537744 0.32441123 0.77884074 0.8988341  0.97654085]]\n",
      "\n",
      " [[0.40076652 0.2488312  0.40386845 0.82322351 0.65130558]\n",
      "  [0.07711254 0.57371374 0.78716392 0.17622022 0.443459  ]\n",
      "  [0.97434117 0.0561761  0.03070605 0.82994607 0.76457672]]]\n",
      "d:  [[[1.25257422 1.40699415 1.65792402 1.88551744 1.04734188]\n",
      "  [1.07145876 1.08724301 1.0647137  1.19005353 1.61636487]\n",
      "  [1.91537744 1.32441123 1.77884074 1.8988341  1.97654085]]\n",
      "\n",
      " [[1.40076652 1.2488312  1.40386845 1.82322351 1.65130558]\n",
      "  [1.07711254 1.57371374 1.78716392 1.17622022 1.443459  ]\n",
      "  [1.97434117 1.0561761  1.03070605 1.82994607 1.76457672]]]\n"
     ]
    }
   ],
   "source": [
    "# your code/answer here\n",
    "print(\"a: \",a)\n",
    "print(\"d: \",d)"
   ]
  },
  {
   "cell_type": "markdown",
   "metadata": {},
   "source": [
    "#### 12. Multiply *a* and *c*. Assign the result to *e*."
   ]
  },
  {
   "cell_type": "code",
   "execution_count": 81,
   "metadata": {},
   "outputs": [
    {
     "data": {
      "text/plain": [
       "array([[[0.25257422, 0.40699415, 0.65792402, 0.88551744, 0.04734188],\n",
       "        [0.07145876, 0.08724301, 0.0647137 , 0.19005353, 0.61636487],\n",
       "        [0.91537744, 0.32441123, 0.77884074, 0.8988341 , 0.97654085]],\n",
       "\n",
       "       [[0.40076652, 0.2488312 , 0.40386845, 0.82322351, 0.65130558],\n",
       "        [0.07711254, 0.57371374, 0.78716392, 0.17622022, 0.443459  ],\n",
       "        [0.97434117, 0.0561761 , 0.03070605, 0.82994607, 0.76457672]]])"
      ]
     },
     "execution_count": 81,
     "metadata": {},
     "output_type": "execute_result"
    }
   ],
   "source": [
    "# your code here\n",
    "e = np.multiply(a,c)\n",
    "e"
   ]
  },
  {
   "cell_type": "markdown",
   "metadata": {},
   "source": [
    "#### 13. Does *e* equal to *a*? Why or why not?\n"
   ]
  },
  {
   "cell_type": "code",
   "execution_count": 84,
   "metadata": {},
   "outputs": [
    {
     "name": "stdout",
     "output_type": "stream",
     "text": [
      "e;  [[[0.25257422 0.40699415 0.65792402 0.88551744 0.04734188]\n",
      "  [0.07145876 0.08724301 0.0647137  0.19005353 0.61636487]\n",
      "  [0.91537744 0.32441123 0.77884074 0.8988341  0.97654085]]\n",
      "\n",
      " [[0.40076652 0.2488312  0.40386845 0.82322351 0.65130558]\n",
      "  [0.07711254 0.57371374 0.78716392 0.17622022 0.443459  ]\n",
      "  [0.97434117 0.0561761  0.03070605 0.82994607 0.76457672]]]\n",
      "a:  [[[0.25257422 0.40699415 0.65792402 0.88551744 0.04734188]\n",
      "  [0.07145876 0.08724301 0.0647137  0.19005353 0.61636487]\n",
      "  [0.91537744 0.32441123 0.77884074 0.8988341  0.97654085]]\n",
      "\n",
      " [[0.40076652 0.2488312  0.40386845 0.82322351 0.65130558]\n",
      "  [0.07711254 0.57371374 0.78716392 0.17622022 0.443459  ]\n",
      "  [0.97434117 0.0561761  0.03070605 0.82994607 0.76457672]]]\n"
     ]
    }
   ],
   "source": [
    "print(\"e; \",e)\n",
    "print(\"a: \",a)\n",
    "\n",
    "#They are not equal"
   ]
  },
  {
   "cell_type": "code",
   "execution_count": 83,
   "metadata": {},
   "outputs": [
    {
     "name": "stdout",
     "output_type": "stream",
     "text": [
      "they are not equal\n"
     ]
    }
   ],
   "source": [
    "# your code/answer here\n",
    "if e.all == a.all:\n",
    "    print(\"they are equal\")\n",
    "else:\n",
    "    print(\"they are not equal\")"
   ]
  },
  {
   "cell_type": "markdown",
   "metadata": {},
   "source": [
    "#### 14. Identify the max, min, and mean values in *d*. Assign those values to variables *d_max*, *d_min* and *d_mean*."
   ]
  },
  {
   "cell_type": "code",
   "execution_count": 16,
   "metadata": {},
   "outputs": [
    {
     "ename": "NameError",
     "evalue": "name 'd' is not defined",
     "output_type": "error",
     "traceback": [
      "\u001b[1;31m---------------------------------------------------------------------------\u001b[0m",
      "\u001b[1;31mNameError\u001b[0m                                 Traceback (most recent call last)",
      "Cell \u001b[1;32mIn[16], line 2\u001b[0m\n\u001b[0;32m      1\u001b[0m \u001b[38;5;66;03m# your code here\u001b[39;00m\n\u001b[1;32m----> 2\u001b[0m d_max \u001b[38;5;241m=\u001b[39m np\u001b[38;5;241m.\u001b[39mmax(d)\n\u001b[0;32m      3\u001b[0m d_min \u001b[38;5;241m=\u001b[39m np\u001b[38;5;241m.\u001b[39mmin(d)\n\u001b[0;32m      4\u001b[0m d_mean \u001b[38;5;241m=\u001b[39m np\u001b[38;5;241m.\u001b[39mmean(d)\n",
      "\u001b[1;31mNameError\u001b[0m: name 'd' is not defined"
     ]
    }
   ],
   "source": [
    "# your code here\n",
    "d_max = np.max(d)\n",
    "d_min = np.min(d)\n",
    "d_mean = np.mean(d)\n",
    "print(d_max)\n",
    "print(d_min)\n",
    "print(d_mean)"
   ]
  },
  {
   "cell_type": "markdown",
   "metadata": {},
   "source": [
    "#### 15. Now we want to label the values in *d*. First create an empty array *f* with the same shape (i.e. 2x3x5) as *d* using `np.empty`.\n"
   ]
  },
  {
   "cell_type": "code",
   "execution_count": 17,
   "metadata": {},
   "outputs": [
    {
     "data": {
      "text/plain": [
       "array([[[0.64839578, 0.820679  , 0.62817598, 0.17471747, 0.73785311],\n",
       "        [0.48718207, 0.31776186, 0.02281954, 0.77307454, 0.65072927],\n",
       "        [0.58397373, 0.37274632, 0.09463181, 0.06674595, 0.13039797]],\n",
       "\n",
       "       [[0.98735773, 0.87834638, 0.26321774, 0.73267062, 0.43102513],\n",
       "        [0.68462994, 0.5052911 , 0.79427351, 0.07407954, 0.88708993],\n",
       "        [0.03539385, 0.0026381 , 0.26197845, 0.54201966, 0.1519543 ]]])"
      ]
     },
     "execution_count": 17,
     "metadata": {},
     "output_type": "execute_result"
    }
   ],
   "source": [
    "# your code here\n",
    "f = np.empty([2,3,5])\n",
    "f"
   ]
  },
  {
   "cell_type": "markdown",
   "metadata": {},
   "source": [
    "#### 16. Populate the values in *f*. \n",
    "\n",
    "For each value in *d*, if it's larger than *d_min* but smaller than *d_mean*, assign 25 to the corresponding value in *f*. If a value in *d* is larger than *d_mean* but smaller than *d_max*, assign 75 to the corresponding value in *f*. If a value equals to *d_mean*, assign 50 to the corresponding value in *f*. Assign 0 to the corresponding value(s) in *f* for *d_min* in *d*. Assign 100 to the corresponding value(s) in *f* for *d_max* in *d*. In the end, f should have only the following values: 0, 25, 50, 75, and 100.\n",
    "\n",
    "**Note**: you don't have to use Numpy in this question."
   ]
  },
  {
   "cell_type": "code",
   "execution_count": 110,
   "metadata": {},
   "outputs": [
    {
     "name": "stdout",
     "output_type": "stream",
     "text": [
      "[[[0.25257422 0.40699415 0.65792402 0.88551744 0.04734188]\n",
      "  [0.07145876 0.08724301 0.0647137  0.19005353 0.61636487]\n",
      "  [0.91537744 0.32441123 0.77884074 0.8988341  0.97654085]]\n",
      "\n",
      " [[0.40076652 0.2488312  0.40386845 0.82322351 0.65130558]\n",
      "  [0.07711254 0.57371374 0.78716392 0.17622022 0.443459  ]\n",
      "  [0.97434117 0.0561761  0.03070605 0.82994607 0.76457672]]]\n"
     ]
    }
   ],
   "source": [
    "# your code here\n",
    "f[(d_min < d) & (d < d_mean)] = 25\n",
    "f[(d_mean < d) & (d < d_max)] = 75\n",
    "f[d == d_mean] = 50\n",
    "f[d == d_min] = 0\n",
    "f[d == d_max] = 100\n",
    "\n",
    "        "
   ]
  },
  {
   "cell_type": "markdown",
   "metadata": {},
   "source": [
    "#### 17. Print *d* and *f*. Do you have your expected *f*?\n",
    "For instance, if your *d* is:\n",
    "```python\n",
    "[[[1.85836099, 1.67064465, 1.62576044, 1.40243961, 1.88454931],\n",
    "[1.75354326, 1.69403643, 1.36729252, 1.61415071, 1.12104981],\n",
    "[1.72201435, 1.1862918 , 1.87078449, 1.7726778 , 1.88180042]],\n",
    "[[1.44747908, 1.31673383, 1.02000951, 1.52218947, 1.97066381],\n",
    "[1.79129243, 1.74983003, 1.96028037, 1.85166831, 1.65450881],\n",
    "[1.18068344, 1.9587381 , 1.00656599, 1.93402165, 1.73514584]]]\n",
    "```\n",
    "Your *f* should be:\n",
    "```python\n",
    "[[[ 75.,  75.,  75.,  25.,  75.],\n",
    "[ 75.,  75.,  25.,  25.,  25.],\n",
    "[ 75.,  25.,  75.,  75.,  75.]],\n",
    "[[ 25.,  25.,  25.,  25., 100.],\n",
    "[ 75.,  75.,  75.,  75.,  75.],\n",
    "[ 25.,  75.,   0.,  75.,  75.]]]\n",
    "```"
   ]
  },
  {
   "cell_type": "code",
   "execution_count": 112,
   "metadata": {},
   "outputs": [
    {
     "name": "stdout",
     "output_type": "stream",
     "text": [
      "d:  [[[1.25257422 1.40699415 1.65792402 1.88551744 1.04734188]\n",
      "  [1.07145876 1.08724301 1.0647137  1.19005353 1.61636487]\n",
      "  [1.91537744 1.32441123 1.77884074 1.8988341  1.97654085]]\n",
      "\n",
      " [[1.40076652 1.2488312  1.40386845 1.82322351 1.65130558]\n",
      "  [1.07711254 1.57371374 1.78716392 1.17622022 1.443459  ]\n",
      "  [1.97434117 1.0561761  1.03070605 1.82994607 1.76457672]]]\n",
      "f:  [[[ 25.  25.  75.  75.  25.]\n",
      "  [ 25.  25.  25.  25.  75.]\n",
      "  [ 75.  25.  75.  75. 100.]]\n",
      "\n",
      " [[ 25.  25.  25.  75.  75.]\n",
      "  [ 25.  75.  75.  25.  25.]\n",
      "  [ 75.  25.   0.  75.  75.]]]\n"
     ]
    }
   ],
   "source": [
    "# your code here\n",
    "print(\"d: \", d)\n",
    "print(\"f: \", f)"
   ]
  },
  {
   "cell_type": "markdown",
   "metadata": {},
   "source": [
    "#### 18. Bonus question: instead of using numbers (i.e. 0, 25, 50, 75, and 100), use string values  (\"A\", \"B\", \"C\", \"D\", and \"E\") to label the array elements. For the example above, the expected result is:\n",
    "\n",
    "```python\n",
    "[[[ 'D',  'D',  'D',  'B',  'D'],\n",
    "[ 'D',  'D',  'B',  'B',  'B'],\n",
    "[ 'D',  'B',  'D',  'D',  'D']],\n",
    "[[ 'B',  'B',  'B',  'B',  'E'],\n",
    "[ 'D',  'D',  'D',  'D',  'D'],\n",
    "[ 'B',  'D',   'A',  'D', 'D']]]\n",
    "```\n",
    "**Note**: you don't have to use Numpy in this question."
   ]
  },
  {
   "cell_type": "code",
   "execution_count": 115,
   "metadata": {},
   "outputs": [
    {
     "ename": "ValueError",
     "evalue": "could not convert string to float: 'B'",
     "output_type": "error",
     "traceback": [
      "\u001b[1;31m---------------------------------------------------------------------------\u001b[0m",
      "\u001b[1;31mValueError\u001b[0m                                Traceback (most recent call last)",
      "Cell \u001b[1;32mIn[115], line 4\u001b[0m\n\u001b[0;32m      1\u001b[0m \u001b[38;5;66;03m# your code here\u001b[39;00m\n\u001b[1;32m----> 4\u001b[0m f[(d_min \u001b[38;5;241m<\u001b[39m d) \u001b[38;5;241m&\u001b[39m (d \u001b[38;5;241m<\u001b[39m d_mean)] \u001b[38;5;241m=\u001b[39m \u001b[38;5;124m\"\u001b[39m\u001b[38;5;124mB\u001b[39m\u001b[38;5;124m\"\u001b[39m\n\u001b[0;32m      5\u001b[0m f[(d_mean \u001b[38;5;241m<\u001b[39m d) \u001b[38;5;241m&\u001b[39m (d \u001b[38;5;241m<\u001b[39m d_max)] \u001b[38;5;241m=\u001b[39m \u001b[38;5;124m\"\u001b[39m\u001b[38;5;124mD\u001b[39m\u001b[38;5;124m\"\u001b[39m\n\u001b[0;32m      6\u001b[0m f[d \u001b[38;5;241m==\u001b[39m d_mean] \u001b[38;5;241m=\u001b[39m \u001b[38;5;124m\"\u001b[39m\u001b[38;5;124mC\u001b[39m\u001b[38;5;124m\"\u001b[39m\n",
      "\u001b[1;31mValueError\u001b[0m: could not convert string to float: 'B'"
     ]
    }
   ],
   "source": [
    "# your code here\n",
    "\n",
    "f[(d.min < d) & (d < d.mean)] = \"B\"\n",
    "f[(d.min < d) & (d < d.max)] = \"D\"\n",
    "f[d.mean == d] = \"C\"\n",
    "f[d.min == d] = \"A\"\n",
    "f[d.max == d] = \"E\"\n",
    "\n",
    "print(f)"
   ]
  },
  {
   "cell_type": "code",
   "execution_count": null,
   "metadata": {},
   "outputs": [],
   "source": []
  }
 ],
 "metadata": {
  "kernelspec": {
   "display_name": "Python 3 (ipykernel)",
   "language": "python",
   "name": "python3"
  },
  "language_info": {
   "codemirror_mode": {
    "name": "ipython",
    "version": 3
   },
   "file_extension": ".py",
   "mimetype": "text/x-python",
   "name": "python",
   "nbconvert_exporter": "python",
   "pygments_lexer": "ipython3",
   "version": "3.11.5"
  }
 },
 "nbformat": 4,
 "nbformat_minor": 2
}
